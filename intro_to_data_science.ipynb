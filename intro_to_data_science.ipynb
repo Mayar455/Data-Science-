{
  "nbformat": 4,
  "nbformat_minor": 0,
  "metadata": {
    "colab": {
      "name": "intro to data science.ipynb",
      "provenance": [],
      "toc_visible": true,
      "collapsed_sections": [
        "FLhLaDRyCMKC"
      ],
      "authorship_tag": "ABX9TyNUNyB+XlpiuHGBR1zD7udN",
      "include_colab_link": true
    },
    "kernelspec": {
      "name": "python3",
      "display_name": "Python 3"
    },
    "language_info": {
      "name": "python"
    }
  },
  "cells": [
    {
      "cell_type": "markdown",
      "metadata": {
        "id": "view-in-github",
        "colab_type": "text"
      },
      "source": [
        "<a href=\"https://colab.research.google.com/github/Mayar455/Data-Science-/blob/main/intro_to_data_science.ipynb\" target=\"_parent\"><img src=\"https://colab.research.google.com/assets/colab-badge.svg\" alt=\"Open In Colab\"/></a>"
      ]
    },
    {
      "cell_type": "markdown",
      "source": [
        "# ***INTRO TO DATA SCIENCE ***\n",
        "*notes from sololearn and codes*\n",
        "-----------------------------------------\n",
        "\n",
        "**What is data Science ?**\n",
        "\n",
        "Data science is a multidisciplinary field that unifies statistics, data analysis, machine learning and their related methods to extract knowledge and insights.\n",
        "\n",
        "1- No matter the format of the data, the first step in data science is to transform it into arrays of numbers."
      ],
      "metadata": {
        "id": "E_8dKrIQBctj"
      }
    },
    {
      "cell_type": "markdown",
      "source": [
        "# **Numpy**"
      ],
      "metadata": {
        "id": "FLhLaDRyCMKC"
      }
    },
    {
      "cell_type": "code",
      "source": [
        "import numpy as np\n",
        "\n",
        "heights = [189, 170, 189, 163, 183, 171, 185, 168, 173, 183, 173, 173, 175, 178, 183, 193, 178, 173, 174, 183, 183, 180, 168, 180, 170, 178, 182, 180, 183, 178, 182, 188, 175, 179, 183, 193, 182, 183, 177, 185, 188, 188, 182, 185, 191]\n",
        "\n",
        "heights_arr = np.array(heights)\n",
        "print((heights_arr > 188).sum())"
      ],
      "metadata": {
        "colab": {
          "base_uri": "https://localhost:8080/"
        },
        "id": "ApoBKwZdEDD4",
        "outputId": "0a6cb3f1-489a-442e-f1cb-d0ac06cfcc88"
      },
      "execution_count": 1,
      "outputs": [
        {
          "output_type": "stream",
          "name": "stdout",
          "text": [
            "5\n"
          ]
        }
      ]
    },
    {
      "cell_type": "code",
      "source": [
        "#An array class in Numpy is called an ndarray or n-dimensional array.\n",
        "#We can use this to count the number of presidents in heights_arr, use attribute numpy.ndarray.size\n",
        "#Note that once an array is created in numpy, its size cannot be changed.\n",
        "#attribute size is the same as len built-in function\n",
        "heights_arr.size"
      ],
      "metadata": {
        "colab": {
          "base_uri": "https://localhost:8080/"
        },
        "id": "1uJsZTcJFJgI",
        "outputId": "eca87e7f-b8f6-4ae4-8053-95b96bb8ee37"
      },
      "execution_count": 2,
      "outputs": [
        {
          "output_type": "execute_result",
          "data": {
            "text/plain": [
              "45"
            ]
          },
          "metadata": {},
          "execution_count": 2
        }
      ]
    },
    {
      "cell_type": "markdown",
      "source": [
        "*Size tells us how big the array is, shape tells us the dimension. To get current shape of an array use attribute shape:*"
      ],
      "metadata": {
        "id": "q3YTiPEOGIE9"
      }
    },
    {
      "cell_type": "code",
      "source": [
        "heights_arr.shape"
      ],
      "metadata": {
        "colab": {
          "base_uri": "https://localhost:8080/"
        },
        "id": "p_OxN0BOF8oV",
        "outputId": "6ff05de4-c277-4ffa-f214-8d62bdd2a448"
      },
      "execution_count": 3,
      "outputs": [
        {
          "output_type": "execute_result",
          "data": {
            "text/plain": [
              "(45,)"
            ]
          },
          "metadata": {},
          "execution_count": 3
        }
      ]
    },
    {
      "cell_type": "code",
      "source": [
        "ages = [57, 61, 57, 57, 58, 57, 61, 54, 68, 51, 49, 64, 50, 48, 65, 52, 56, 46, 54, 49, 51, 47, 55, 55, 54, 42, 51, 56, 55, 51, 54, 51, 60, 62, 43, 55, 56, 61, 52, 69, 64, 46, 54, 47, 70]\n",
        "heights_and_ages = heights + ages \n",
        "# convert a list to a numpy array\n",
        "heights_and_ages_arr = np.array(heights_and_ages)\n",
        "print(heights_and_ages_arr.shape)"
      ],
      "metadata": {
        "colab": {
          "base_uri": "https://localhost:8080/"
        },
        "id": "pxBdoywnGOcl",
        "outputId": "02e52496-36b1-4db4-a087-75c26ecd632a"
      },
      "execution_count": 4,
      "outputs": [
        {
          "output_type": "stream",
          "name": "stdout",
          "text": [
            "(90,)\n"
          ]
        }
      ]
    },
    {
      "cell_type": "markdown",
      "source": [
        "It would be clearer if we could align height and age for each president and reorganize the data into a 2 by 45 matrix where the first row contains all heights and the second row contains ages.To achieve this, a new array can be created by calling numpy.ndarray.reshape with new dimensions specified in a tuple.\n",
        "\n",
        "We can reshape an array in multiple ways, as long as the size of the reshaped array matches that of the original. *italicized text* *italicized text*"
      ],
      "metadata": {
        "id": "scAG9KGnHWFV"
      }
    },
    {
      "cell_type": "code",
      "source": [
        "\n",
        "heights_and_ages_arr.reshape((2,45))"
      ],
      "metadata": {
        "colab": {
          "base_uri": "https://localhost:8080/"
        },
        "id": "ZfRSKxK2GzWt",
        "outputId": "33d07427-0c73-4628-b96b-18a172dd86fc"
      },
      "execution_count": 5,
      "outputs": [
        {
          "output_type": "execute_result",
          "data": {
            "text/plain": [
              "array([[189, 170, 189, 163, 183, 171, 185, 168, 173, 183, 173, 173, 175,\n",
              "        178, 183, 193, 178, 173, 174, 183, 183, 180, 168, 180, 170, 178,\n",
              "        182, 180, 183, 178, 182, 188, 175, 179, 183, 193, 182, 183, 177,\n",
              "        185, 188, 188, 182, 185, 191],\n",
              "       [ 57,  61,  57,  57,  58,  57,  61,  54,  68,  51,  49,  64,  50,\n",
              "         48,  65,  52,  56,  46,  54,  49,  51,  47,  55,  55,  54,  42,\n",
              "         51,  56,  55,  51,  54,  51,  60,  62,  43,  55,  56,  61,  52,\n",
              "         69,  64,  46,  54,  47,  70]])"
            ]
          },
          "metadata": {},
          "execution_count": 5
        }
      ]
    },
    {
      "cell_type": "code",
      "source": [
        "# inspect the first three elements from the first row in a 2darray\n",
        "heights_and_ages_arr = heights_and_ages_arr.reshape((2,45))\n",
        "heights_and_ages_arr[0, 0:3]"
      ],
      "metadata": {
        "colab": {
          "base_uri": "https://localhost:8080/"
        },
        "id": "RrSO35rpIW7c",
        "outputId": "ded03cd1-8d2c-4eef-cf20-b74a70b8ace6"
      },
      "execution_count": 6,
      "outputs": [
        {
          "output_type": "execute_result",
          "data": {
            "text/plain": [
              "array([189, 170, 189])"
            ]
          },
          "metadata": {},
          "execution_count": 6
        }
      ]
    },
    {
      "cell_type": "code",
      "source": [
        "#Second column of the 2d array \n",
        "heights_and_ages_arr[:, 1]"
      ],
      "metadata": {
        "colab": {
          "base_uri": "https://localhost:8080/"
        },
        "id": "AIEEaVXyJOvU",
        "outputId": "e3c711b1-9ef1-412d-faf2-3c48bfecdf70"
      },
      "execution_count": 7,
      "outputs": [
        {
          "output_type": "execute_result",
          "data": {
            "text/plain": [
              "array([170,  61])"
            ]
          },
          "metadata": {},
          "execution_count": 7
        }
      ]
    },
    {
      "cell_type": "code",
      "source": [
        "#change the fourth entry in heights_arr to 165\n",
        "heights_and_ages_arr[0, 3] =165\n",
        "heights_and_ages_arr"
      ],
      "metadata": {
        "colab": {
          "base_uri": "https://localhost:8080/"
        },
        "id": "rFYvj7DTJupC",
        "outputId": "4ed906d9-445a-464f-9ca7-8696f4d9e369"
      },
      "execution_count": 8,
      "outputs": [
        {
          "output_type": "execute_result",
          "data": {
            "text/plain": [
              "array([[189, 170, 189, 165, 183, 171, 185, 168, 173, 183, 173, 173, 175,\n",
              "        178, 183, 193, 178, 173, 174, 183, 183, 180, 168, 180, 170, 178,\n",
              "        182, 180, 183, 178, 182, 188, 175, 179, 183, 193, 182, 183, 177,\n",
              "        185, 188, 188, 182, 185, 191],\n",
              "       [ 57,  61,  57,  57,  58,  57,  61,  54,  68,  51,  49,  64,  50,\n",
              "         48,  65,  52,  56,  46,  54,  49,  51,  47,  55,  55,  54,  42,\n",
              "         51,  56,  55,  51,  54,  51,  60,  62,  43,  55,  56,  61,  52,\n",
              "         69,  64,  46,  54,  47,  70]])"
            ]
          },
          "metadata": {},
          "execution_count": 8
        }
      ]
    },
    {
      "cell_type": "markdown",
      "source": [
        "a 1d array or a 2d arry can be assigned to a subset of another 2d array, as long as their shapes match."
      ],
      "metadata": {
        "id": "XCoItR_lKpYZ"
      }
    },
    {
      "cell_type": "code",
      "source": [
        "#update both height and age of the first president with new data, we can supply the data in a list:\n",
        "heights_and_ages_arr[:, 0] = [190, 58]\n",
        "heights_and_ages_arr"
      ],
      "metadata": {
        "colab": {
          "base_uri": "https://localhost:8080/"
        },
        "id": "bvymCuqHKtKC",
        "outputId": "53699f6b-a1d5-4b58-b216-a6cc7e2138e4"
      },
      "execution_count": 9,
      "outputs": [
        {
          "output_type": "execute_result",
          "data": {
            "text/plain": [
              "array([[190, 170, 189, 165, 183, 171, 185, 168, 173, 183, 173, 173, 175,\n",
              "        178, 183, 193, 178, 173, 174, 183, 183, 180, 168, 180, 170, 178,\n",
              "        182, 180, 183, 178, 182, 188, 175, 179, 183, 193, 182, 183, 177,\n",
              "        185, 188, 188, 182, 185, 191],\n",
              "       [ 58,  61,  57,  57,  58,  57,  61,  54,  68,  51,  49,  64,  50,\n",
              "         48,  65,  52,  56,  46,  54,  49,  51,  47,  55,  55,  54,  42,\n",
              "         51,  56,  55,  51,  54,  51,  60,  62,  43,  55,  56,  61,  52,\n",
              "         69,  64,  46,  54,  47,  70]])"
            ]
          },
          "metadata": {},
          "execution_count": 9
        }
      ]
    },
    {
      "cell_type": "code",
      "source": [
        "#We can also update data in a subarray with a numpy array as such:\n",
        "new_record = np.array([[180, 183, 190], [54, 50, 69]])\n",
        "heights_and_ages_arr[:, 42:] = new_record\n",
        "heights_and_ages_arr\n"
      ],
      "metadata": {
        "colab": {
          "base_uri": "https://localhost:8080/"
        },
        "id": "1WM-sB95LVs4",
        "outputId": "fd0a400c-ce74-42b5-f613-5d5f59a63127"
      },
      "execution_count": 10,
      "outputs": [
        {
          "output_type": "execute_result",
          "data": {
            "text/plain": [
              "array([[190, 170, 189, 165, 183, 171, 185, 168, 173, 183, 173, 173, 175,\n",
              "        178, 183, 193, 178, 173, 174, 183, 183, 180, 168, 180, 170, 178,\n",
              "        182, 180, 183, 178, 182, 188, 175, 179, 183, 193, 182, 183, 177,\n",
              "        185, 188, 188, 180, 183, 190],\n",
              "       [ 58,  61,  57,  57,  58,  57,  61,  54,  68,  51,  49,  64,  50,\n",
              "         48,  65,  52,  56,  46,  54,  49,  51,  47,  55,  55,  54,  42,\n",
              "         51,  56,  55,  51,  54,  51,  60,  62,  43,  55,  56,  61,  52,\n",
              "         69,  64,  46,  54,  50,  69]])"
            ]
          },
          "metadata": {},
          "execution_count": 10
        }
      ]
    },
    {
      "cell_type": "code",
      "source": [
        "#nstead of having the ages stored in a list, it could be stored in a 2darray:\n",
        "heights_arr = np.array(heights)\n",
        "ages_arr = np.array(ages)\n",
        "\n",
        "heights_arr = heights_arr.reshape((45,1))\n",
        "ages_arr = ages_arr.reshape((45,1))\n",
        "\n",
        "#If we reshape the heights_arr to (45,1), the same as 'ages_arr',\n",
        "# we can stack them horizontally (by column) to get a 2darray using 'hstack':\n",
        "\n",
        "height_age_arr = np.hstack((heights_arr, ages_arr))\n",
        "print(height_age_arr.shape)\n",
        "print(height_age_arr[:3,])\n"
      ],
      "metadata": {
        "id": "SkpehMq_ymzZ"
      },
      "execution_count": null,
      "outputs": []
    },
    {
      "cell_type": "markdown",
      "source": [
        "Similarly, if we want to combine the arrays vertically (by row), we can use **'vstack'.**"
      ],
      "metadata": {
        "id": "3DpTSA_z5FfQ"
      }
    },
    {
      "cell_type": "code",
      "source": [
        "# If we want to concatenate, link together, two arrays along rows,\n",
        "# then pass 'axis = 1' to achieve the same result as using numpy.hstack; \n",
        "# and pass 'axis = 0' if you want to combine arrays vertically.\n",
        "height_age_arr = np.concatenate((heights_arr, ages_arr), axis=1)\n",
        "\n",
        "print(height_age_arr.shape)\n",
        "print(height_age_arr[:3,:])"
      ],
      "metadata": {
        "id": "TldrTFA75IoB"
      },
      "execution_count": null,
      "outputs": []
    },
    {
      "cell_type": "markdown",
      "source": [
        "***NOTE***: You can use **np.hstack** to concatenate arrays ONLY if they have the same **number of rows.**"
      ],
      "metadata": {
        "id": "NGIlVWrx7qRx"
      }
    },
    {
      "cell_type": "code",
      "source": [
        "# mathematical operations for addition, subtraction, division and power (+, -, /, **) work the same way on arrays.\n",
        "print(height_age_arr[:,0]*0.0328084)"
      ],
      "metadata": {
        "id": "mGJbapPk7vxJ"
      },
      "execution_count": null,
      "outputs": []
    },
    {
      "cell_type": "code",
      "source": [
        "height_age_arr.sum()\n",
        "\n"
      ],
      "metadata": {
        "colab": {
          "base_uri": "https://localhost:8080/"
        },
        "id": "aw-97iDA8e7T",
        "outputId": "f817e537-5c96-4f29-afaa-87cd9d81bdd0"
      },
      "execution_count": 28,
      "outputs": [
        {
          "output_type": "execute_result",
          "data": {
            "text/plain": [
              "10575"
            ]
          },
          "metadata": {},
          "execution_count": 28
        }
      ]
    },
    {
      "cell_type": "markdown",
      "source": [
        "The sum of all heights and ages is 10575. In order to sum all heights and sum all ages separately, we can specify axis=0 to calculate the sum across the rows, that is, it computes the sum for each column, or column sum. On the other hand, to obtain the row sums specify axis=1"
      ],
      "metadata": {
        "id": "bhulh_t99W_p"
      }
    },
    {
      "cell_type": "code",
      "source": [
        "height_age_arr.sum(axis=0)"
      ],
      "metadata": {
        "colab": {
          "base_uri": "https://localhost:8080/"
        },
        "id": "JI79ljCg9KfM",
        "outputId": "47555a91-ee78-4476-95f8-95f7ec3196d0"
      },
      "execution_count": 29,
      "outputs": [
        {
          "output_type": "execute_result",
          "data": {
            "text/plain": [
              "array([8100, 2475])"
            ]
          },
          "metadata": {},
          "execution_count": 29
        }
      ]
    },
    {
      "cell_type": "code",
      "source": [
        "height_age_arr.sum(axis=1)"
      ],
      "metadata": {
        "colab": {
          "base_uri": "https://localhost:8080/"
        },
        "id": "okAYvhtd9bOC",
        "outputId": "4baeb10c-c46c-40ef-df6d-49f21ce3194d"
      },
      "execution_count": 30,
      "outputs": [
        {
          "output_type": "execute_result",
          "data": {
            "text/plain": [
              "array([246, 231, 246, 220, 241, 228, 246, 222, 241, 234, 222, 237, 225,\n",
              "       226, 248, 245, 234, 219, 228, 232, 234, 227, 223, 235, 224, 220,\n",
              "       233, 236, 238, 229, 236, 239, 235, 241, 226, 248, 238, 244, 229,\n",
              "       254, 252, 234, 236, 232, 261])"
            ]
          },
          "metadata": {},
          "execution_count": 30
        }
      ]
    },
    {
      "cell_type": "markdown",
      "source": [
        "\n",
        "\n",
        "instead of the entire dataset, we want only tall presidents, that is, those presidents whose height is greater than or equal to 182 cm. We first create a mask, 1darray with boolean values:"
      ],
      "metadata": {
        "id": "WBbHuo1s-e-C"
      }
    },
    {
      "cell_type": "code",
      "source": [
        "mask = height_age_arr[:, 0] >= 182\n",
        "print(mask.sum())"
      ],
      "metadata": {
        "colab": {
          "base_uri": "https://localhost:8080/"
        },
        "id": "9CyHJ4GI-f1x",
        "outputId": "0f482bb6-299b-4e77-dcbe-4b59291fd0da"
      },
      "execution_count": 31,
      "outputs": [
        {
          "output_type": "stream",
          "name": "stdout",
          "text": [
            "23\n"
          ]
        }
      ]
    },
    {
      "cell_type": "markdown",
      "source": [
        "Then pass it to the first axis of `height_age_arr` to filter presidents who don’t meet the criteria:"
      ],
      "metadata": {
        "id": "taCz3Ikf-oRp"
      }
    },
    {
      "cell_type": "code",
      "source": [
        "tall_presidents = height_age_arr[mask, ]\n",
        "tall_presidents.shape\n",
        "\n",
        "tall_presidents.shape"
      ],
      "metadata": {
        "colab": {
          "base_uri": "https://localhost:8080/"
        },
        "id": "SugBTTuG-pS_",
        "outputId": "aa07d671-29ed-4773-c21a-5713710ec5dd"
      },
      "execution_count": 32,
      "outputs": [
        {
          "output_type": "execute_result",
          "data": {
            "text/plain": [
              "(23, 2)"
            ]
          },
          "metadata": {},
          "execution_count": 32
        }
      ]
    },
    {
      "cell_type": "markdown",
      "source": [
        "NOTE; **MASKING ** is used to extract, modify, count, or otherwise manipulate values in an array based on some criterion. In our example, the criteria was height of 182cm or taller."
      ],
      "metadata": {
        "id": "3YTNfeyT-29L"
      }
    },
    {
      "cell_type": "code",
      "source": [
        "#multiple masking \n",
        "\n",
        "mask = (height_age_arr[:, 0]>=182) & (height_age_arr[:,1]<=50)\n",
        "height_age_arr[mask,]"
      ],
      "metadata": {
        "colab": {
          "base_uri": "https://localhost:8080/"
        },
        "id": "Fjm3PV3E_nQr",
        "outputId": "68b6fb4d-0e3a-4c8f-8240-1c7bf28ed2a0"
      },
      "execution_count": 33,
      "outputs": [
        {
          "output_type": "execute_result",
          "data": {
            "text/plain": [
              "array([[183,  49],\n",
              "       [183,  43],\n",
              "       [188,  46],\n",
              "       [185,  47]])"
            ]
          },
          "metadata": {},
          "execution_count": 33
        }
      ]
    },
    {
      "cell_type": "markdown",
      "source": [
        "# **Pandas**"
      ],
      "metadata": {
        "id": "IActTCBWCZ4i"
      }
    },
    {
      "cell_type": "markdown",
      "source": [
        "Suppose we want to inspect the data on Abraham Lincoln in 'height_age_arr' but cannot remember his integer position. Is there a convenient way to access the data by indexing the name of the president like:\n",
        "\n",
        "**print(height_age_arr['Abraham Lincoln'])**\n",
        "\n",
        "Unfortunately, we will receive an** error message**.  However, it is possible to do this in **pandas**.\n",
        "\n",
        "The pandas library is built on top of numpy, meaning a lot of features, methods, and functions are shared.\n"
      ],
      "metadata": {
        "id": "rE_GRKGnCgSR"
      }
    },
    {
      "cell_type": "code",
      "source": [
        "# Pandas Series is a one-dimensional labeled array that can\n",
        "# hold data of any type (integer, string, float, python objects, etc.), \n",
        "# similar to a column in an excel spreadsheet. The axis labels are collectively called index.\n",
        "\n",
        "import pandas as pd\n",
        "pd.Series([1,2,3], index=['a','b','c'])  # with index"
      ],
      "metadata": {
        "id": "3tLrNIkeC900"
      },
      "execution_count": null,
      "outputs": []
    },
    {
      "cell_type": "code",
      "source": [
        "pd.Series(np.array([1,2,3]), index=['a', 'b', 'c']) #from 1D array"
      ],
      "metadata": {
        "id": "6ysj7_5xCfwa"
      },
      "execution_count": null,
      "outputs": []
    },
    {
      "cell_type": "code",
      "source": [
        "pd.Series({'a':1, 'b':2, 'c':3}) #from a Dict"
      ],
      "metadata": {
        "id": "v_g4fEDZEnM0"
      },
      "execution_count": null,
      "outputs": []
    },
    {
      "cell_type": "markdown",
      "source": [
        "data is usually more than one-dimensional, and of different data types; thus Series is not sufficient. **DataFrames** are 2darrays with both row and column labels."
      ],
      "metadata": {
        "id": "lTdo_IZqFf6D"
      }
    },
    {
      "cell_type": "code",
      "source": [
        "# one way to create a DataFrame from scratch is to pass in a dict. For example,\n",
        "# this week, we sold 3 bottles of red wine to Adam, 6 to Bob, and 5 to Charles.\n",
        "# We sold 5 bottles of white wine to Adam, 0 to Bob and 10 to Charles. We can organize\n",
        "# the data into a DataFrame by creating a dict 'wine_dict' with the number of bottles \n",
        "# of each wine type we sold, then pass it along with the customer names as index to create a DataFrame 'sales'.\n",
        "wine_dict = {\n",
        "    'red_wine' : [3, 6, 5],\n",
        "    'white_wine': [5, 0, 10]\n",
        "}\n",
        "sales = pd.DataFrame(wine_dict, index = [\"adam\", \"bob\", \"charles\"])\n",
        "sales"
      ],
      "metadata": {
        "colab": {
          "base_uri": "https://localhost:8080/",
          "height": 143
        },
        "id": "A9XDjTNpFqIT",
        "outputId": "ed05970b-302d-4bff-b373-3a4c8d266c91"
      },
      "execution_count": 40,
      "outputs": [
        {
          "output_type": "execute_result",
          "data": {
            "text/html": [
              "\n",
              "  <div id=\"df-617ee1a0-a375-4dcb-bf73-e70869f71f25\">\n",
              "    <div class=\"colab-df-container\">\n",
              "      <div>\n",
              "<style scoped>\n",
              "    .dataframe tbody tr th:only-of-type {\n",
              "        vertical-align: middle;\n",
              "    }\n",
              "\n",
              "    .dataframe tbody tr th {\n",
              "        vertical-align: top;\n",
              "    }\n",
              "\n",
              "    .dataframe thead th {\n",
              "        text-align: right;\n",
              "    }\n",
              "</style>\n",
              "<table border=\"1\" class=\"dataframe\">\n",
              "  <thead>\n",
              "    <tr style=\"text-align: right;\">\n",
              "      <th></th>\n",
              "      <th>red_wine</th>\n",
              "      <th>white_wine</th>\n",
              "    </tr>\n",
              "  </thead>\n",
              "  <tbody>\n",
              "    <tr>\n",
              "      <th>adam</th>\n",
              "      <td>3</td>\n",
              "      <td>5</td>\n",
              "    </tr>\n",
              "    <tr>\n",
              "      <th>bob</th>\n",
              "      <td>6</td>\n",
              "      <td>0</td>\n",
              "    </tr>\n",
              "    <tr>\n",
              "      <th>charles</th>\n",
              "      <td>5</td>\n",
              "      <td>10</td>\n",
              "    </tr>\n",
              "  </tbody>\n",
              "</table>\n",
              "</div>\n",
              "      <button class=\"colab-df-convert\" onclick=\"convertToInteractive('df-617ee1a0-a375-4dcb-bf73-e70869f71f25')\"\n",
              "              title=\"Convert this dataframe to an interactive table.\"\n",
              "              style=\"display:none;\">\n",
              "        \n",
              "  <svg xmlns=\"http://www.w3.org/2000/svg\" height=\"24px\"viewBox=\"0 0 24 24\"\n",
              "       width=\"24px\">\n",
              "    <path d=\"M0 0h24v24H0V0z\" fill=\"none\"/>\n",
              "    <path d=\"M18.56 5.44l.94 2.06.94-2.06 2.06-.94-2.06-.94-.94-2.06-.94 2.06-2.06.94zm-11 1L8.5 8.5l.94-2.06 2.06-.94-2.06-.94L8.5 2.5l-.94 2.06-2.06.94zm10 10l.94 2.06.94-2.06 2.06-.94-2.06-.94-.94-2.06-.94 2.06-2.06.94z\"/><path d=\"M17.41 7.96l-1.37-1.37c-.4-.4-.92-.59-1.43-.59-.52 0-1.04.2-1.43.59L10.3 9.45l-7.72 7.72c-.78.78-.78 2.05 0 2.83L4 21.41c.39.39.9.59 1.41.59.51 0 1.02-.2 1.41-.59l7.78-7.78 2.81-2.81c.8-.78.8-2.07 0-2.86zM5.41 20L4 18.59l7.72-7.72 1.47 1.35L5.41 20z\"/>\n",
              "  </svg>\n",
              "      </button>\n",
              "      \n",
              "  <style>\n",
              "    .colab-df-container {\n",
              "      display:flex;\n",
              "      flex-wrap:wrap;\n",
              "      gap: 12px;\n",
              "    }\n",
              "\n",
              "    .colab-df-convert {\n",
              "      background-color: #E8F0FE;\n",
              "      border: none;\n",
              "      border-radius: 50%;\n",
              "      cursor: pointer;\n",
              "      display: none;\n",
              "      fill: #1967D2;\n",
              "      height: 32px;\n",
              "      padding: 0 0 0 0;\n",
              "      width: 32px;\n",
              "    }\n",
              "\n",
              "    .colab-df-convert:hover {\n",
              "      background-color: #E2EBFA;\n",
              "      box-shadow: 0px 1px 2px rgba(60, 64, 67, 0.3), 0px 1px 3px 1px rgba(60, 64, 67, 0.15);\n",
              "      fill: #174EA6;\n",
              "    }\n",
              "\n",
              "    [theme=dark] .colab-df-convert {\n",
              "      background-color: #3B4455;\n",
              "      fill: #D2E3FC;\n",
              "    }\n",
              "\n",
              "    [theme=dark] .colab-df-convert:hover {\n",
              "      background-color: #434B5C;\n",
              "      box-shadow: 0px 1px 3px 1px rgba(0, 0, 0, 0.15);\n",
              "      filter: drop-shadow(0px 1px 2px rgba(0, 0, 0, 0.3));\n",
              "      fill: #FFFFFF;\n",
              "    }\n",
              "  </style>\n",
              "\n",
              "      <script>\n",
              "        const buttonEl =\n",
              "          document.querySelector('#df-617ee1a0-a375-4dcb-bf73-e70869f71f25 button.colab-df-convert');\n",
              "        buttonEl.style.display =\n",
              "          google.colab.kernel.accessAllowed ? 'block' : 'none';\n",
              "\n",
              "        async function convertToInteractive(key) {\n",
              "          const element = document.querySelector('#df-617ee1a0-a375-4dcb-bf73-e70869f71f25');\n",
              "          const dataTable =\n",
              "            await google.colab.kernel.invokeFunction('convertToInteractive',\n",
              "                                                     [key], {});\n",
              "          if (!dataTable) return;\n",
              "\n",
              "          const docLinkHtml = 'Like what you see? Visit the ' +\n",
              "            '<a target=\"_blank\" href=https://colab.research.google.com/notebooks/data_table.ipynb>data table notebook</a>'\n",
              "            + ' to learn more about interactive tables.';\n",
              "          element.innerHTML = '';\n",
              "          dataTable['output_type'] = 'display_data';\n",
              "          await google.colab.output.renderOutput(dataTable, element);\n",
              "          const docLink = document.createElement('div');\n",
              "          docLink.innerHTML = docLinkHtml;\n",
              "          element.appendChild(docLink);\n",
              "        }\n",
              "      </script>\n",
              "    </div>\n",
              "  </div>\n",
              "  "
            ],
            "text/plain": [
              "         red_wine  white_wine\n",
              "adam            3           5\n",
              "bob             6           0\n",
              "charles         5          10"
            ]
          },
          "metadata": {},
          "execution_count": 40
        }
      ]
    }
  ]
}