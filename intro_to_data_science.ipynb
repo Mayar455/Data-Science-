{
  "nbformat": 4,
  "nbformat_minor": 0,
  "metadata": {
    "colab": {
      "name": "intro to data science.ipynb",
      "provenance": [],
      "toc_visible": true,
      "collapsed_sections": [
        "FLhLaDRyCMKC",
        "IActTCBWCZ4i",
        "q-Tp8DUGJUp9"
      ],
      "authorship_tag": "ABX9TyNUr1Pd9oSKeSniJgKbKBKc",
      "include_colab_link": true
    },
    "kernelspec": {
      "name": "python3",
      "display_name": "Python 3"
    },
    "language_info": {
      "name": "python"
    }
  },
  "cells": [
    {
      "cell_type": "markdown",
      "metadata": {
        "id": "view-in-github",
        "colab_type": "text"
      },
      "source": [
        "<a href=\"https://colab.research.google.com/github/Mayar455/Data-Science-/blob/main/intro_to_data_science.ipynb\" target=\"_parent\"><img src=\"https://colab.research.google.com/assets/colab-badge.svg\" alt=\"Open In Colab\"/></a>"
      ]
    },
    {
      "cell_type": "markdown",
      "source": [
        "# ***INTRO TO DATA SCIENCE ***\n",
        "*notes from sololearn and codes*\n",
        "-----------------------------------------\n",
        "\n",
        "**What is data Science ?**\n",
        "\n",
        "Data science is a multidisciplinary field that unifies statistics, data analysis, machine learning and their related methods to extract knowledge and insights.\n",
        "\n",
        "1- No matter the format of the data, the first step in data science is to transform it into arrays of numbers."
      ],
      "metadata": {
        "id": "E_8dKrIQBctj"
      }
    },
    {
      "cell_type": "markdown",
      "source": [
        "# **Numpy**"
      ],
      "metadata": {
        "id": "FLhLaDRyCMKC"
      }
    },
    {
      "cell_type": "code",
      "source": [
        "import numpy as np\n",
        "\n",
        "heights = [189, 170, 189, 163, 183, 171, 185, 168, 173, 183, 173, 173, 175, 178, 183, 193, 178, 173, 174, 183, 183, 180, 168, 180, 170, 178, 182, 180, 183, 178, 182, 188, 175, 179, 183, 193, 182, 183, 177, 185, 188, 188, 182, 185, 191]\n",
        "\n",
        "heights_arr = np.array(heights)\n",
        "print((heights_arr > 188).sum())"
      ],
      "metadata": {
        "colab": {
          "base_uri": "https://localhost:8080/"
        },
        "id": "ApoBKwZdEDD4",
        "outputId": "297e46ba-7095-4e34-ddbf-b0e606197a9e"
      },
      "execution_count": 1,
      "outputs": [
        {
          "output_type": "stream",
          "name": "stdout",
          "text": [
            "5\n"
          ]
        }
      ]
    },
    {
      "cell_type": "code",
      "source": [
        "#An array class in Numpy is called an ndarray or n-dimensional array.\n",
        "#We can use this to count the number of presidents in heights_arr, use attribute numpy.ndarray.size\n",
        "#Note that once an array is created in numpy, its size cannot be changed.\n",
        "#attribute size is the same as len built-in function\n",
        "heights_arr.size"
      ],
      "metadata": {
        "colab": {
          "base_uri": "https://localhost:8080/"
        },
        "id": "1uJsZTcJFJgI",
        "outputId": "c9bc5a99-6585-4b8b-9edc-7017be364c23"
      },
      "execution_count": 2,
      "outputs": [
        {
          "output_type": "execute_result",
          "data": {
            "text/plain": [
              "45"
            ]
          },
          "metadata": {},
          "execution_count": 2
        }
      ]
    },
    {
      "cell_type": "markdown",
      "source": [
        "*Size tells us how big the array is, shape tells us the dimension. To get current shape of an array use attribute shape:*"
      ],
      "metadata": {
        "id": "q3YTiPEOGIE9"
      }
    },
    {
      "cell_type": "code",
      "source": [
        "heights_arr.shape"
      ],
      "metadata": {
        "colab": {
          "base_uri": "https://localhost:8080/"
        },
        "id": "p_OxN0BOF8oV",
        "outputId": "594b7113-f8d4-4dc6-a545-a6ebbf0293e0"
      },
      "execution_count": 3,
      "outputs": [
        {
          "output_type": "execute_result",
          "data": {
            "text/plain": [
              "(45,)"
            ]
          },
          "metadata": {},
          "execution_count": 3
        }
      ]
    },
    {
      "cell_type": "code",
      "source": [
        "ages = [57, 61, 57, 57, 58, 57, 61, 54, 68, 51, 49, 64, 50, 48, 65, 52, 56, 46, 54, 49, 51, 47, 55, 55, 54, 42, 51, 56, 55, 51, 54, 51, 60, 62, 43, 55, 56, 61, 52, 69, 64, 46, 54, 47, 70]\n",
        "heights_and_ages = heights + ages \n",
        "# convert a list to a numpy array\n",
        "heights_and_ages_arr = np.array(heights_and_ages)\n",
        "print(heights_and_ages_arr.shape)"
      ],
      "metadata": {
        "colab": {
          "base_uri": "https://localhost:8080/"
        },
        "id": "pxBdoywnGOcl",
        "outputId": "6b663224-36ce-466f-ad99-8d392a1e96e9"
      },
      "execution_count": 4,
      "outputs": [
        {
          "output_type": "stream",
          "name": "stdout",
          "text": [
            "(90,)\n"
          ]
        }
      ]
    },
    {
      "cell_type": "markdown",
      "source": [
        "It would be clearer if we could align height and age for each president and reorganize the data into a 2 by 45 matrix where the first row contains all heights and the second row contains ages.To achieve this, a new array can be created by calling numpy.ndarray.reshape with new dimensions specified in a tuple.\n",
        "\n",
        "We can reshape an array in multiple ways, as long as the size of the reshaped array matches that of the original. *italicized text* *italicized text*"
      ],
      "metadata": {
        "id": "scAG9KGnHWFV"
      }
    },
    {
      "cell_type": "code",
      "source": [
        "\n",
        "heights_and_ages_arr.reshape((2,45))"
      ],
      "metadata": {
        "colab": {
          "base_uri": "https://localhost:8080/"
        },
        "id": "ZfRSKxK2GzWt",
        "outputId": "986e7f6b-3f66-4479-bee4-b33dfc3f9ca5"
      },
      "execution_count": 5,
      "outputs": [
        {
          "output_type": "execute_result",
          "data": {
            "text/plain": [
              "array([[189, 170, 189, 163, 183, 171, 185, 168, 173, 183, 173, 173, 175,\n",
              "        178, 183, 193, 178, 173, 174, 183, 183, 180, 168, 180, 170, 178,\n",
              "        182, 180, 183, 178, 182, 188, 175, 179, 183, 193, 182, 183, 177,\n",
              "        185, 188, 188, 182, 185, 191],\n",
              "       [ 57,  61,  57,  57,  58,  57,  61,  54,  68,  51,  49,  64,  50,\n",
              "         48,  65,  52,  56,  46,  54,  49,  51,  47,  55,  55,  54,  42,\n",
              "         51,  56,  55,  51,  54,  51,  60,  62,  43,  55,  56,  61,  52,\n",
              "         69,  64,  46,  54,  47,  70]])"
            ]
          },
          "metadata": {},
          "execution_count": 5
        }
      ]
    },
    {
      "cell_type": "code",
      "source": [
        "# inspect the first three elements from the first row in a 2darray\n",
        "heights_and_ages_arr = heights_and_ages_arr.reshape((2,45))\n",
        "heights_and_ages_arr[0, 0:3]"
      ],
      "metadata": {
        "colab": {
          "base_uri": "https://localhost:8080/"
        },
        "id": "RrSO35rpIW7c",
        "outputId": "c9b5b11e-95a9-4a94-c125-5d67b3ae7fe0"
      },
      "execution_count": 6,
      "outputs": [
        {
          "output_type": "execute_result",
          "data": {
            "text/plain": [
              "array([189, 170, 189])"
            ]
          },
          "metadata": {},
          "execution_count": 6
        }
      ]
    },
    {
      "cell_type": "code",
      "source": [
        "#Second column of the 2d array \n",
        "heights_and_ages_arr[:, 1]"
      ],
      "metadata": {
        "colab": {
          "base_uri": "https://localhost:8080/"
        },
        "id": "AIEEaVXyJOvU",
        "outputId": "b0a94ddc-2ccb-41f2-b841-1c84872fe3cf"
      },
      "execution_count": 7,
      "outputs": [
        {
          "output_type": "execute_result",
          "data": {
            "text/plain": [
              "array([170,  61])"
            ]
          },
          "metadata": {},
          "execution_count": 7
        }
      ]
    },
    {
      "cell_type": "code",
      "source": [
        "#change the fourth entry in heights_arr to 165\n",
        "heights_and_ages_arr[0, 3] =165\n",
        "heights_and_ages_arr"
      ],
      "metadata": {
        "colab": {
          "base_uri": "https://localhost:8080/"
        },
        "id": "rFYvj7DTJupC",
        "outputId": "49348a38-f5e4-4b3f-c335-d9586829c236"
      },
      "execution_count": 8,
      "outputs": [
        {
          "output_type": "execute_result",
          "data": {
            "text/plain": [
              "array([[189, 170, 189, 165, 183, 171, 185, 168, 173, 183, 173, 173, 175,\n",
              "        178, 183, 193, 178, 173, 174, 183, 183, 180, 168, 180, 170, 178,\n",
              "        182, 180, 183, 178, 182, 188, 175, 179, 183, 193, 182, 183, 177,\n",
              "        185, 188, 188, 182, 185, 191],\n",
              "       [ 57,  61,  57,  57,  58,  57,  61,  54,  68,  51,  49,  64,  50,\n",
              "         48,  65,  52,  56,  46,  54,  49,  51,  47,  55,  55,  54,  42,\n",
              "         51,  56,  55,  51,  54,  51,  60,  62,  43,  55,  56,  61,  52,\n",
              "         69,  64,  46,  54,  47,  70]])"
            ]
          },
          "metadata": {},
          "execution_count": 8
        }
      ]
    },
    {
      "cell_type": "markdown",
      "source": [
        "a 1d array or a 2d arry can be assigned to a subset of another 2d array, as long as their shapes match."
      ],
      "metadata": {
        "id": "XCoItR_lKpYZ"
      }
    },
    {
      "cell_type": "code",
      "source": [
        "#update both height and age of the first president with new data, we can supply the data in a list:\n",
        "heights_and_ages_arr[:, 0] = [190, 58]\n",
        "heights_and_ages_arr"
      ],
      "metadata": {
        "colab": {
          "base_uri": "https://localhost:8080/"
        },
        "id": "bvymCuqHKtKC",
        "outputId": "851440eb-b2a5-4d06-b272-dbbb5c0a13d5"
      },
      "execution_count": 9,
      "outputs": [
        {
          "output_type": "execute_result",
          "data": {
            "text/plain": [
              "array([[190, 170, 189, 165, 183, 171, 185, 168, 173, 183, 173, 173, 175,\n",
              "        178, 183, 193, 178, 173, 174, 183, 183, 180, 168, 180, 170, 178,\n",
              "        182, 180, 183, 178, 182, 188, 175, 179, 183, 193, 182, 183, 177,\n",
              "        185, 188, 188, 182, 185, 191],\n",
              "       [ 58,  61,  57,  57,  58,  57,  61,  54,  68,  51,  49,  64,  50,\n",
              "         48,  65,  52,  56,  46,  54,  49,  51,  47,  55,  55,  54,  42,\n",
              "         51,  56,  55,  51,  54,  51,  60,  62,  43,  55,  56,  61,  52,\n",
              "         69,  64,  46,  54,  47,  70]])"
            ]
          },
          "metadata": {},
          "execution_count": 9
        }
      ]
    },
    {
      "cell_type": "code",
      "source": [
        "#We can also update data in a subarray with a numpy array as such:\n",
        "new_record = np.array([[180, 183, 190], [54, 50, 69]])\n",
        "heights_and_ages_arr[:, 42:] = new_record\n",
        "heights_and_ages_arr\n"
      ],
      "metadata": {
        "colab": {
          "base_uri": "https://localhost:8080/"
        },
        "id": "1WM-sB95LVs4",
        "outputId": "f2f0d8c8-8193-4a63-8782-f9b712e87595"
      },
      "execution_count": 10,
      "outputs": [
        {
          "output_type": "execute_result",
          "data": {
            "text/plain": [
              "array([[190, 170, 189, 165, 183, 171, 185, 168, 173, 183, 173, 173, 175,\n",
              "        178, 183, 193, 178, 173, 174, 183, 183, 180, 168, 180, 170, 178,\n",
              "        182, 180, 183, 178, 182, 188, 175, 179, 183, 193, 182, 183, 177,\n",
              "        185, 188, 188, 180, 183, 190],\n",
              "       [ 58,  61,  57,  57,  58,  57,  61,  54,  68,  51,  49,  64,  50,\n",
              "         48,  65,  52,  56,  46,  54,  49,  51,  47,  55,  55,  54,  42,\n",
              "         51,  56,  55,  51,  54,  51,  60,  62,  43,  55,  56,  61,  52,\n",
              "         69,  64,  46,  54,  50,  69]])"
            ]
          },
          "metadata": {},
          "execution_count": 10
        }
      ]
    },
    {
      "cell_type": "code",
      "source": [
        "#nstead of having the ages stored in a list, it could be stored in a 2darray:\n",
        "heights_arr = np.array(heights)\n",
        "ages_arr = np.array(ages)\n",
        "\n",
        "heights_arr = heights_arr.reshape((45,1))\n",
        "ages_arr = ages_arr.reshape((45,1))\n",
        "\n",
        "#If we reshape the heights_arr to (45,1), the same as 'ages_arr',\n",
        "# we can stack them horizontally (by column) to get a 2darray using 'hstack':\n",
        "\n",
        "height_age_arr = np.hstack((heights_arr, ages_arr))\n",
        "print(height_age_arr.shape)\n",
        "print(height_age_arr[:3,])\n"
      ],
      "metadata": {
        "id": "SkpehMq_ymzZ",
        "colab": {
          "base_uri": "https://localhost:8080/"
        },
        "outputId": "bd6f1459-ffb9-4dc7-880e-b94078d94357"
      },
      "execution_count": 11,
      "outputs": [
        {
          "output_type": "stream",
          "name": "stdout",
          "text": [
            "(45, 2)\n",
            "[[189  57]\n",
            " [170  61]\n",
            " [189  57]]\n"
          ]
        }
      ]
    },
    {
      "cell_type": "markdown",
      "source": [
        "Similarly, if we want to combine the arrays vertically (by row), we can use **'vstack'.**"
      ],
      "metadata": {
        "id": "3DpTSA_z5FfQ"
      }
    },
    {
      "cell_type": "code",
      "source": [
        "# If we want to concatenate, link together, two arrays along rows,\n",
        "# then pass 'axis = 1' to achieve the same result as using numpy.hstack; \n",
        "# and pass 'axis = 0' if you want to combine arrays vertically.\n",
        "height_age_arr = np.concatenate((heights_arr, ages_arr), axis=1)\n",
        "\n",
        "print(height_age_arr.shape)\n",
        "print(height_age_arr[:3,:])"
      ],
      "metadata": {
        "id": "TldrTFA75IoB",
        "colab": {
          "base_uri": "https://localhost:8080/"
        },
        "outputId": "2f919d95-f71c-479a-fd31-6ff3a91a3d3f"
      },
      "execution_count": 12,
      "outputs": [
        {
          "output_type": "stream",
          "name": "stdout",
          "text": [
            "(45, 2)\n",
            "[[189  57]\n",
            " [170  61]\n",
            " [189  57]]\n"
          ]
        }
      ]
    },
    {
      "cell_type": "markdown",
      "source": [
        "***NOTE***: You can use **np.hstack** to concatenate arrays ONLY if they have the same **number of rows.**"
      ],
      "metadata": {
        "id": "NGIlVWrx7qRx"
      }
    },
    {
      "cell_type": "code",
      "source": [
        "# mathematical operations for addition, subtraction, division and power (+, -, /, **) work the same way on arrays.\n",
        "print(height_age_arr[:,0]*0.0328084)"
      ],
      "metadata": {
        "id": "mGJbapPk7vxJ",
        "colab": {
          "base_uri": "https://localhost:8080/"
        },
        "outputId": "078dbacc-4bd0-4fcd-aebd-67c120d1acba"
      },
      "execution_count": 13,
      "outputs": [
        {
          "output_type": "stream",
          "name": "stdout",
          "text": [
            "[6.2007876 5.577428  6.2007876 5.3477692 6.0039372 5.6102364 6.069554\n",
            " 5.5118112 5.6758532 6.0039372 5.6758532 5.6758532 5.74147   5.8398952\n",
            " 6.0039372 6.3320212 5.8398952 5.6758532 5.7086616 6.0039372 6.0039372\n",
            " 5.905512  5.5118112 5.905512  5.577428  5.8398952 5.9711288 5.905512\n",
            " 6.0039372 5.8398952 5.9711288 6.1679792 5.74147   5.8727036 6.0039372\n",
            " 6.3320212 5.9711288 6.0039372 5.8070868 6.069554  6.1679792 6.1679792\n",
            " 5.9711288 6.069554  6.2664044]\n"
          ]
        }
      ]
    },
    {
      "cell_type": "code",
      "source": [
        "height_age_arr.sum()\n",
        "\n"
      ],
      "metadata": {
        "colab": {
          "base_uri": "https://localhost:8080/"
        },
        "id": "aw-97iDA8e7T",
        "outputId": "a2a7169a-5430-4e43-8288-a42db361fad7"
      },
      "execution_count": 14,
      "outputs": [
        {
          "output_type": "execute_result",
          "data": {
            "text/plain": [
              "10575"
            ]
          },
          "metadata": {},
          "execution_count": 14
        }
      ]
    },
    {
      "cell_type": "markdown",
      "source": [
        "The sum of all heights and ages is 10575. In order to sum all heights and sum all ages separately, we can specify axis=0 to calculate the sum across the rows, that is, it computes the sum for each column, or column sum. On the other hand, to obtain the row sums specify axis=1"
      ],
      "metadata": {
        "id": "bhulh_t99W_p"
      }
    },
    {
      "cell_type": "code",
      "source": [
        "height_age_arr.sum(axis=0)"
      ],
      "metadata": {
        "colab": {
          "base_uri": "https://localhost:8080/"
        },
        "id": "JI79ljCg9KfM",
        "outputId": "43e7e83f-3f42-46e5-c9ae-4377c6f2cbab"
      },
      "execution_count": 15,
      "outputs": [
        {
          "output_type": "execute_result",
          "data": {
            "text/plain": [
              "array([8100, 2475])"
            ]
          },
          "metadata": {},
          "execution_count": 15
        }
      ]
    },
    {
      "cell_type": "code",
      "source": [
        "height_age_arr.sum(axis=1)"
      ],
      "metadata": {
        "colab": {
          "base_uri": "https://localhost:8080/"
        },
        "id": "okAYvhtd9bOC",
        "outputId": "60e9f80d-45ae-4564-b6c1-f7070d490a4e"
      },
      "execution_count": 16,
      "outputs": [
        {
          "output_type": "execute_result",
          "data": {
            "text/plain": [
              "array([246, 231, 246, 220, 241, 228, 246, 222, 241, 234, 222, 237, 225,\n",
              "       226, 248, 245, 234, 219, 228, 232, 234, 227, 223, 235, 224, 220,\n",
              "       233, 236, 238, 229, 236, 239, 235, 241, 226, 248, 238, 244, 229,\n",
              "       254, 252, 234, 236, 232, 261])"
            ]
          },
          "metadata": {},
          "execution_count": 16
        }
      ]
    },
    {
      "cell_type": "markdown",
      "source": [
        "\n",
        "\n",
        "instead of the entire dataset, we want only tall presidents, that is, those presidents whose height is greater than or equal to 182 cm. We first create a mask, 1darray with boolean values:"
      ],
      "metadata": {
        "id": "WBbHuo1s-e-C"
      }
    },
    {
      "cell_type": "code",
      "source": [
        "mask = height_age_arr[:, 0] >= 182\n",
        "print(mask.sum())"
      ],
      "metadata": {
        "colab": {
          "base_uri": "https://localhost:8080/"
        },
        "id": "9CyHJ4GI-f1x",
        "outputId": "8e1928b3-1643-4811-d926-cd703531515e"
      },
      "execution_count": 17,
      "outputs": [
        {
          "output_type": "stream",
          "name": "stdout",
          "text": [
            "23\n"
          ]
        }
      ]
    },
    {
      "cell_type": "markdown",
      "source": [
        "Then pass it to the first axis of `height_age_arr` to filter presidents who don’t meet the criteria:"
      ],
      "metadata": {
        "id": "taCz3Ikf-oRp"
      }
    },
    {
      "cell_type": "code",
      "source": [
        "tall_presidents = height_age_arr[mask, ]\n",
        "tall_presidents.shape\n",
        "\n",
        "tall_presidents.shape"
      ],
      "metadata": {
        "colab": {
          "base_uri": "https://localhost:8080/"
        },
        "id": "SugBTTuG-pS_",
        "outputId": "e3114961-44e9-451b-9364-b3511b2bd3d7"
      },
      "execution_count": 18,
      "outputs": [
        {
          "output_type": "execute_result",
          "data": {
            "text/plain": [
              "(23, 2)"
            ]
          },
          "metadata": {},
          "execution_count": 18
        }
      ]
    },
    {
      "cell_type": "markdown",
      "source": [
        "NOTE; **MASKING ** is used to extract, modify, count, or otherwise manipulate values in an array based on some criterion. In our example, the criteria was height of 182cm or taller."
      ],
      "metadata": {
        "id": "3YTNfeyT-29L"
      }
    },
    {
      "cell_type": "code",
      "source": [
        "#multiple masking \n",
        "\n",
        "mask = (height_age_arr[:, 0]>=182) & (height_age_arr[:,1]<=50)\n",
        "height_age_arr[mask,]"
      ],
      "metadata": {
        "colab": {
          "base_uri": "https://localhost:8080/"
        },
        "id": "Fjm3PV3E_nQr",
        "outputId": "7c06a625-bda5-403a-a70c-6bc33bd3e0d5"
      },
      "execution_count": 19,
      "outputs": [
        {
          "output_type": "execute_result",
          "data": {
            "text/plain": [
              "array([[183,  49],\n",
              "       [183,  43],\n",
              "       [188,  46],\n",
              "       [185,  47]])"
            ]
          },
          "metadata": {},
          "execution_count": 19
        }
      ]
    },
    {
      "cell_type": "markdown",
      "source": [
        "# **Pandas**"
      ],
      "metadata": {
        "id": "IActTCBWCZ4i"
      }
    },
    {
      "cell_type": "markdown",
      "source": [
        "Suppose we want to inspect the data on Abraham Lincoln in 'height_age_arr' but cannot remember his integer position. Is there a convenient way to access the data by indexing the name of the president like:\n",
        "\n",
        "**print(height_age_arr['Abraham Lincoln'])**\n",
        "\n",
        "Unfortunately, we will receive an** error message**.  However, it is possible to do this in **pandas**.\n",
        "\n",
        "The pandas library is built on top of numpy, meaning a lot of features, methods, and functions are shared.\n"
      ],
      "metadata": {
        "id": "rE_GRKGnCgSR"
      }
    },
    {
      "cell_type": "code",
      "source": [
        "# Pandas Series is a one-dimensional labeled array that can\n",
        "# hold data of any type (integer, string, float, python objects, etc.), \n",
        "# similar to a column in an excel spreadsheet. The axis labels are collectively called index.\n",
        "\n",
        "import pandas as pd\n",
        "pd.Series([1,2,3], index=['a','b','c'])  # with index"
      ],
      "metadata": {
        "id": "3tLrNIkeC900",
        "colab": {
          "base_uri": "https://localhost:8080/"
        },
        "outputId": "c15463f5-b39d-486b-8fd9-492d902178df"
      },
      "execution_count": 20,
      "outputs": [
        {
          "output_type": "execute_result",
          "data": {
            "text/plain": [
              "a    1\n",
              "b    2\n",
              "c    3\n",
              "dtype: int64"
            ]
          },
          "metadata": {},
          "execution_count": 20
        }
      ]
    },
    {
      "cell_type": "code",
      "source": [
        "pd.Series(np.array([1,2,3]), index=['a', 'b', 'c']) #from 1D array"
      ],
      "metadata": {
        "id": "6ysj7_5xCfwa",
        "colab": {
          "base_uri": "https://localhost:8080/"
        },
        "outputId": "7a5340f3-874c-4e96-f3f9-79e97ca562ea"
      },
      "execution_count": 21,
      "outputs": [
        {
          "output_type": "execute_result",
          "data": {
            "text/plain": [
              "a    1\n",
              "b    2\n",
              "c    3\n",
              "dtype: int64"
            ]
          },
          "metadata": {},
          "execution_count": 21
        }
      ]
    },
    {
      "cell_type": "code",
      "source": [
        "pd.Series({'a':1, 'b':2, 'c':3}) #from a Dict"
      ],
      "metadata": {
        "id": "v_g4fEDZEnM0",
        "colab": {
          "base_uri": "https://localhost:8080/"
        },
        "outputId": "ba964f05-65d5-41a4-eaca-c65928e530e9"
      },
      "execution_count": 22,
      "outputs": [
        {
          "output_type": "execute_result",
          "data": {
            "text/plain": [
              "a    1\n",
              "b    2\n",
              "c    3\n",
              "dtype: int64"
            ]
          },
          "metadata": {},
          "execution_count": 22
        }
      ]
    },
    {
      "cell_type": "markdown",
      "source": [
        "data is usually more than one-dimensional, and of different data types; thus Series is not sufficient. **DataFrames** are 2darrays with both row and column labels."
      ],
      "metadata": {
        "id": "lTdo_IZqFf6D"
      }
    },
    {
      "cell_type": "code",
      "source": [
        "# one way to create a DataFrame from scratch is to pass in a dict. For example,\n",
        "# this week, we sold 3 bottles of red wine to Adam, 6 to Bob, and 5 to Charles.\n",
        "# We sold 5 bottles of white wine to Adam, 0 to Bob and 10 to Charles. We can organize\n",
        "# the data into a DataFrame by creating a dict 'wine_dict' with the number of bottles \n",
        "# of each wine type we sold, then pass it along with the customer names as index to create a DataFrame 'sales'.\n",
        "wine_dict = {\n",
        "    'red_wine' : [3, 6, 5],\n",
        "    'white_wine': [5, 0, 10]\n",
        "}\n",
        "sales = pd.DataFrame(wine_dict, index = [\"adam\", \"bob\", \"charles\"])\n",
        "sales"
      ],
      "metadata": {
        "colab": {
          "base_uri": "https://localhost:8080/",
          "height": 0
        },
        "id": "A9XDjTNpFqIT",
        "outputId": "d147f110-1b9f-4344-8595-a039b8e9398f"
      },
      "execution_count": 23,
      "outputs": [
        {
          "output_type": "execute_result",
          "data": {
            "text/html": [
              "\n",
              "  <div id=\"df-dd62a580-6221-407a-8504-ab4b35b16d34\">\n",
              "    <div class=\"colab-df-container\">\n",
              "      <div>\n",
              "<style scoped>\n",
              "    .dataframe tbody tr th:only-of-type {\n",
              "        vertical-align: middle;\n",
              "    }\n",
              "\n",
              "    .dataframe tbody tr th {\n",
              "        vertical-align: top;\n",
              "    }\n",
              "\n",
              "    .dataframe thead th {\n",
              "        text-align: right;\n",
              "    }\n",
              "</style>\n",
              "<table border=\"1\" class=\"dataframe\">\n",
              "  <thead>\n",
              "    <tr style=\"text-align: right;\">\n",
              "      <th></th>\n",
              "      <th>red_wine</th>\n",
              "      <th>white_wine</th>\n",
              "    </tr>\n",
              "  </thead>\n",
              "  <tbody>\n",
              "    <tr>\n",
              "      <th>adam</th>\n",
              "      <td>3</td>\n",
              "      <td>5</td>\n",
              "    </tr>\n",
              "    <tr>\n",
              "      <th>bob</th>\n",
              "      <td>6</td>\n",
              "      <td>0</td>\n",
              "    </tr>\n",
              "    <tr>\n",
              "      <th>charles</th>\n",
              "      <td>5</td>\n",
              "      <td>10</td>\n",
              "    </tr>\n",
              "  </tbody>\n",
              "</table>\n",
              "</div>\n",
              "      <button class=\"colab-df-convert\" onclick=\"convertToInteractive('df-dd62a580-6221-407a-8504-ab4b35b16d34')\"\n",
              "              title=\"Convert this dataframe to an interactive table.\"\n",
              "              style=\"display:none;\">\n",
              "        \n",
              "  <svg xmlns=\"http://www.w3.org/2000/svg\" height=\"24px\"viewBox=\"0 0 24 24\"\n",
              "       width=\"24px\">\n",
              "    <path d=\"M0 0h24v24H0V0z\" fill=\"none\"/>\n",
              "    <path d=\"M18.56 5.44l.94 2.06.94-2.06 2.06-.94-2.06-.94-.94-2.06-.94 2.06-2.06.94zm-11 1L8.5 8.5l.94-2.06 2.06-.94-2.06-.94L8.5 2.5l-.94 2.06-2.06.94zm10 10l.94 2.06.94-2.06 2.06-.94-2.06-.94-.94-2.06-.94 2.06-2.06.94z\"/><path d=\"M17.41 7.96l-1.37-1.37c-.4-.4-.92-.59-1.43-.59-.52 0-1.04.2-1.43.59L10.3 9.45l-7.72 7.72c-.78.78-.78 2.05 0 2.83L4 21.41c.39.39.9.59 1.41.59.51 0 1.02-.2 1.41-.59l7.78-7.78 2.81-2.81c.8-.78.8-2.07 0-2.86zM5.41 20L4 18.59l7.72-7.72 1.47 1.35L5.41 20z\"/>\n",
              "  </svg>\n",
              "      </button>\n",
              "      \n",
              "  <style>\n",
              "    .colab-df-container {\n",
              "      display:flex;\n",
              "      flex-wrap:wrap;\n",
              "      gap: 12px;\n",
              "    }\n",
              "\n",
              "    .colab-df-convert {\n",
              "      background-color: #E8F0FE;\n",
              "      border: none;\n",
              "      border-radius: 50%;\n",
              "      cursor: pointer;\n",
              "      display: none;\n",
              "      fill: #1967D2;\n",
              "      height: 32px;\n",
              "      padding: 0 0 0 0;\n",
              "      width: 32px;\n",
              "    }\n",
              "\n",
              "    .colab-df-convert:hover {\n",
              "      background-color: #E2EBFA;\n",
              "      box-shadow: 0px 1px 2px rgba(60, 64, 67, 0.3), 0px 1px 3px 1px rgba(60, 64, 67, 0.15);\n",
              "      fill: #174EA6;\n",
              "    }\n",
              "\n",
              "    [theme=dark] .colab-df-convert {\n",
              "      background-color: #3B4455;\n",
              "      fill: #D2E3FC;\n",
              "    }\n",
              "\n",
              "    [theme=dark] .colab-df-convert:hover {\n",
              "      background-color: #434B5C;\n",
              "      box-shadow: 0px 1px 3px 1px rgba(0, 0, 0, 0.15);\n",
              "      filter: drop-shadow(0px 1px 2px rgba(0, 0, 0, 0.3));\n",
              "      fill: #FFFFFF;\n",
              "    }\n",
              "  </style>\n",
              "\n",
              "      <script>\n",
              "        const buttonEl =\n",
              "          document.querySelector('#df-dd62a580-6221-407a-8504-ab4b35b16d34 button.colab-df-convert');\n",
              "        buttonEl.style.display =\n",
              "          google.colab.kernel.accessAllowed ? 'block' : 'none';\n",
              "\n",
              "        async function convertToInteractive(key) {\n",
              "          const element = document.querySelector('#df-dd62a580-6221-407a-8504-ab4b35b16d34');\n",
              "          const dataTable =\n",
              "            await google.colab.kernel.invokeFunction('convertToInteractive',\n",
              "                                                     [key], {});\n",
              "          if (!dataTable) return;\n",
              "\n",
              "          const docLinkHtml = 'Like what you see? Visit the ' +\n",
              "            '<a target=\"_blank\" href=https://colab.research.google.com/notebooks/data_table.ipynb>data table notebook</a>'\n",
              "            + ' to learn more about interactive tables.';\n",
              "          element.innerHTML = '';\n",
              "          dataTable['output_type'] = 'display_data';\n",
              "          await google.colab.output.renderOutput(dataTable, element);\n",
              "          const docLink = document.createElement('div');\n",
              "          docLink.innerHTML = docLinkHtml;\n",
              "          element.appendChild(docLink);\n",
              "        }\n",
              "      </script>\n",
              "    </div>\n",
              "  </div>\n",
              "  "
            ],
            "text/plain": [
              "         red_wine  white_wine\n",
              "adam            3           5\n",
              "bob             6           0\n",
              "charles         5          10"
            ]
          },
          "metadata": {},
          "execution_count": 23
        }
      ]
    },
    {
      "cell_type": "code",
      "source": [
        "presidents_df = pd.read_csv(\"https://sololearn.com/uploads/files/president_heights_party.csv\")\n",
        "presidents_df\n"
      ],
      "metadata": {
        "id": "p2iuPTFt09S5",
        "colab": {
          "base_uri": "https://localhost:8080/",
          "height": 0
        },
        "outputId": "ff397b1c-c432-47b3-e6fc-98cc256828d6"
      },
      "execution_count": 24,
      "outputs": [
        {
          "output_type": "execute_result",
          "data": {
            "text/html": [
              "\n",
              "  <div id=\"df-44499543-25c2-443e-997e-d30111f18a44\">\n",
              "    <div class=\"colab-df-container\">\n",
              "      <div>\n",
              "<style scoped>\n",
              "    .dataframe tbody tr th:only-of-type {\n",
              "        vertical-align: middle;\n",
              "    }\n",
              "\n",
              "    .dataframe tbody tr th {\n",
              "        vertical-align: top;\n",
              "    }\n",
              "\n",
              "    .dataframe thead th {\n",
              "        text-align: right;\n",
              "    }\n",
              "</style>\n",
              "<table border=\"1\" class=\"dataframe\">\n",
              "  <thead>\n",
              "    <tr style=\"text-align: right;\">\n",
              "      <th></th>\n",
              "      <th>order</th>\n",
              "      <th>name</th>\n",
              "      <th>age</th>\n",
              "      <th>height</th>\n",
              "      <th>party</th>\n",
              "    </tr>\n",
              "  </thead>\n",
              "  <tbody>\n",
              "    <tr>\n",
              "      <th>0</th>\n",
              "      <td>1</td>\n",
              "      <td>George Washington</td>\n",
              "      <td>57</td>\n",
              "      <td>189</td>\n",
              "      <td>none</td>\n",
              "    </tr>\n",
              "    <tr>\n",
              "      <th>1</th>\n",
              "      <td>2</td>\n",
              "      <td>John Adams</td>\n",
              "      <td>61</td>\n",
              "      <td>170</td>\n",
              "      <td>federalist</td>\n",
              "    </tr>\n",
              "    <tr>\n",
              "      <th>2</th>\n",
              "      <td>3</td>\n",
              "      <td>Thomas Jefferson</td>\n",
              "      <td>57</td>\n",
              "      <td>189</td>\n",
              "      <td>democratic-republican</td>\n",
              "    </tr>\n",
              "    <tr>\n",
              "      <th>3</th>\n",
              "      <td>4</td>\n",
              "      <td>James Madison</td>\n",
              "      <td>57</td>\n",
              "      <td>163</td>\n",
              "      <td>democratic-republican</td>\n",
              "    </tr>\n",
              "    <tr>\n",
              "      <th>4</th>\n",
              "      <td>5</td>\n",
              "      <td>James Monroe</td>\n",
              "      <td>58</td>\n",
              "      <td>183</td>\n",
              "      <td>democratic-republican</td>\n",
              "    </tr>\n",
              "    <tr>\n",
              "      <th>5</th>\n",
              "      <td>6</td>\n",
              "      <td>John Quincy Adams</td>\n",
              "      <td>57</td>\n",
              "      <td>171</td>\n",
              "      <td>democratic-republican</td>\n",
              "    </tr>\n",
              "    <tr>\n",
              "      <th>6</th>\n",
              "      <td>7</td>\n",
              "      <td>Andrew Jackson</td>\n",
              "      <td>61</td>\n",
              "      <td>185</td>\n",
              "      <td>democratic</td>\n",
              "    </tr>\n",
              "    <tr>\n",
              "      <th>7</th>\n",
              "      <td>8</td>\n",
              "      <td>Martin Van Buren</td>\n",
              "      <td>54</td>\n",
              "      <td>168</td>\n",
              "      <td>democratic</td>\n",
              "    </tr>\n",
              "    <tr>\n",
              "      <th>8</th>\n",
              "      <td>9</td>\n",
              "      <td>William Henry Harrison</td>\n",
              "      <td>68</td>\n",
              "      <td>173</td>\n",
              "      <td>whig</td>\n",
              "    </tr>\n",
              "    <tr>\n",
              "      <th>9</th>\n",
              "      <td>10</td>\n",
              "      <td>John Tyler</td>\n",
              "      <td>51</td>\n",
              "      <td>183</td>\n",
              "      <td>whig</td>\n",
              "    </tr>\n",
              "    <tr>\n",
              "      <th>10</th>\n",
              "      <td>11</td>\n",
              "      <td>James K. Polk</td>\n",
              "      <td>49</td>\n",
              "      <td>173</td>\n",
              "      <td>democratic</td>\n",
              "    </tr>\n",
              "    <tr>\n",
              "      <th>11</th>\n",
              "      <td>12</td>\n",
              "      <td>Zachary Taylor</td>\n",
              "      <td>64</td>\n",
              "      <td>173</td>\n",
              "      <td>whig</td>\n",
              "    </tr>\n",
              "    <tr>\n",
              "      <th>12</th>\n",
              "      <td>13</td>\n",
              "      <td>Millard Fillmore</td>\n",
              "      <td>50</td>\n",
              "      <td>175</td>\n",
              "      <td>whig</td>\n",
              "    </tr>\n",
              "    <tr>\n",
              "      <th>13</th>\n",
              "      <td>14</td>\n",
              "      <td>Franklin Pierce</td>\n",
              "      <td>48</td>\n",
              "      <td>178</td>\n",
              "      <td>democratic</td>\n",
              "    </tr>\n",
              "    <tr>\n",
              "      <th>14</th>\n",
              "      <td>15</td>\n",
              "      <td>James Buchanan</td>\n",
              "      <td>65</td>\n",
              "      <td>183</td>\n",
              "      <td>democratic</td>\n",
              "    </tr>\n",
              "    <tr>\n",
              "      <th>15</th>\n",
              "      <td>16</td>\n",
              "      <td>Abraham Lincoln</td>\n",
              "      <td>52</td>\n",
              "      <td>193</td>\n",
              "      <td>republican</td>\n",
              "    </tr>\n",
              "    <tr>\n",
              "      <th>16</th>\n",
              "      <td>17</td>\n",
              "      <td>Andrew Johnson</td>\n",
              "      <td>56</td>\n",
              "      <td>178</td>\n",
              "      <td>national union</td>\n",
              "    </tr>\n",
              "    <tr>\n",
              "      <th>17</th>\n",
              "      <td>18</td>\n",
              "      <td>Ulysses S. Grant</td>\n",
              "      <td>46</td>\n",
              "      <td>173</td>\n",
              "      <td>republican</td>\n",
              "    </tr>\n",
              "    <tr>\n",
              "      <th>18</th>\n",
              "      <td>19</td>\n",
              "      <td>Rutherford B. Hayes</td>\n",
              "      <td>54</td>\n",
              "      <td>174</td>\n",
              "      <td>republican</td>\n",
              "    </tr>\n",
              "    <tr>\n",
              "      <th>19</th>\n",
              "      <td>20</td>\n",
              "      <td>James A. Garfield</td>\n",
              "      <td>49</td>\n",
              "      <td>183</td>\n",
              "      <td>republican</td>\n",
              "    </tr>\n",
              "    <tr>\n",
              "      <th>20</th>\n",
              "      <td>21</td>\n",
              "      <td>Chester A. Arthur</td>\n",
              "      <td>51</td>\n",
              "      <td>183</td>\n",
              "      <td>republican</td>\n",
              "    </tr>\n",
              "    <tr>\n",
              "      <th>21</th>\n",
              "      <td>22</td>\n",
              "      <td>Grover Cleveland</td>\n",
              "      <td>47</td>\n",
              "      <td>180</td>\n",
              "      <td>democratic</td>\n",
              "    </tr>\n",
              "    <tr>\n",
              "      <th>22</th>\n",
              "      <td>23</td>\n",
              "      <td>Benjamin Harrison</td>\n",
              "      <td>55</td>\n",
              "      <td>168</td>\n",
              "      <td>republican</td>\n",
              "    </tr>\n",
              "    <tr>\n",
              "      <th>23</th>\n",
              "      <td>25</td>\n",
              "      <td>Grover Cleveland</td>\n",
              "      <td>55</td>\n",
              "      <td>180</td>\n",
              "      <td>democratic</td>\n",
              "    </tr>\n",
              "    <tr>\n",
              "      <th>24</th>\n",
              "      <td>25</td>\n",
              "      <td>William McKinley</td>\n",
              "      <td>54</td>\n",
              "      <td>170</td>\n",
              "      <td>republican</td>\n",
              "    </tr>\n",
              "    <tr>\n",
              "      <th>25</th>\n",
              "      <td>26</td>\n",
              "      <td>Theodore Roosevelt</td>\n",
              "      <td>42</td>\n",
              "      <td>178</td>\n",
              "      <td>republican</td>\n",
              "    </tr>\n",
              "    <tr>\n",
              "      <th>26</th>\n",
              "      <td>27</td>\n",
              "      <td>William Howard Taft</td>\n",
              "      <td>51</td>\n",
              "      <td>182</td>\n",
              "      <td>republican</td>\n",
              "    </tr>\n",
              "    <tr>\n",
              "      <th>27</th>\n",
              "      <td>28</td>\n",
              "      <td>Woodrow Wilson</td>\n",
              "      <td>56</td>\n",
              "      <td>180</td>\n",
              "      <td>democratic</td>\n",
              "    </tr>\n",
              "    <tr>\n",
              "      <th>28</th>\n",
              "      <td>29</td>\n",
              "      <td>Warren G. Harding</td>\n",
              "      <td>55</td>\n",
              "      <td>183</td>\n",
              "      <td>republican</td>\n",
              "    </tr>\n",
              "    <tr>\n",
              "      <th>29</th>\n",
              "      <td>30</td>\n",
              "      <td>Calvin Coolidge</td>\n",
              "      <td>51</td>\n",
              "      <td>178</td>\n",
              "      <td>republican</td>\n",
              "    </tr>\n",
              "    <tr>\n",
              "      <th>30</th>\n",
              "      <td>31</td>\n",
              "      <td>Herbert Hoover</td>\n",
              "      <td>54</td>\n",
              "      <td>182</td>\n",
              "      <td>republican</td>\n",
              "    </tr>\n",
              "    <tr>\n",
              "      <th>31</th>\n",
              "      <td>32</td>\n",
              "      <td>Franklin D. Roosevelt</td>\n",
              "      <td>51</td>\n",
              "      <td>188</td>\n",
              "      <td>democratic</td>\n",
              "    </tr>\n",
              "    <tr>\n",
              "      <th>32</th>\n",
              "      <td>33</td>\n",
              "      <td>Harry S. Truman</td>\n",
              "      <td>60</td>\n",
              "      <td>175</td>\n",
              "      <td>democratic</td>\n",
              "    </tr>\n",
              "    <tr>\n",
              "      <th>33</th>\n",
              "      <td>34</td>\n",
              "      <td>Dwight D. Eisenhower</td>\n",
              "      <td>62</td>\n",
              "      <td>179</td>\n",
              "      <td>republican</td>\n",
              "    </tr>\n",
              "    <tr>\n",
              "      <th>34</th>\n",
              "      <td>35</td>\n",
              "      <td>John F. Kennedy</td>\n",
              "      <td>43</td>\n",
              "      <td>183</td>\n",
              "      <td>democratic</td>\n",
              "    </tr>\n",
              "    <tr>\n",
              "      <th>35</th>\n",
              "      <td>36</td>\n",
              "      <td>Lyndon B. Johnson</td>\n",
              "      <td>55</td>\n",
              "      <td>193</td>\n",
              "      <td>democratic</td>\n",
              "    </tr>\n",
              "    <tr>\n",
              "      <th>36</th>\n",
              "      <td>37</td>\n",
              "      <td>Richard Nixon</td>\n",
              "      <td>56</td>\n",
              "      <td>182</td>\n",
              "      <td>republican</td>\n",
              "    </tr>\n",
              "    <tr>\n",
              "      <th>37</th>\n",
              "      <td>38</td>\n",
              "      <td>Gerald Ford</td>\n",
              "      <td>61</td>\n",
              "      <td>183</td>\n",
              "      <td>republican</td>\n",
              "    </tr>\n",
              "    <tr>\n",
              "      <th>38</th>\n",
              "      <td>39</td>\n",
              "      <td>Jimmy Carter</td>\n",
              "      <td>52</td>\n",
              "      <td>177</td>\n",
              "      <td>democratic</td>\n",
              "    </tr>\n",
              "    <tr>\n",
              "      <th>39</th>\n",
              "      <td>40</td>\n",
              "      <td>Ronald Reagan</td>\n",
              "      <td>69</td>\n",
              "      <td>185</td>\n",
              "      <td>republican</td>\n",
              "    </tr>\n",
              "    <tr>\n",
              "      <th>40</th>\n",
              "      <td>41</td>\n",
              "      <td>George H. W. Bush</td>\n",
              "      <td>64</td>\n",
              "      <td>188</td>\n",
              "      <td>republican</td>\n",
              "    </tr>\n",
              "    <tr>\n",
              "      <th>41</th>\n",
              "      <td>42</td>\n",
              "      <td>Bill Clinton</td>\n",
              "      <td>46</td>\n",
              "      <td>188</td>\n",
              "      <td>democratic</td>\n",
              "    </tr>\n",
              "    <tr>\n",
              "      <th>42</th>\n",
              "      <td>43</td>\n",
              "      <td>George W. Bush</td>\n",
              "      <td>54</td>\n",
              "      <td>182</td>\n",
              "      <td>republican</td>\n",
              "    </tr>\n",
              "    <tr>\n",
              "      <th>43</th>\n",
              "      <td>44</td>\n",
              "      <td>Barack Obama</td>\n",
              "      <td>47</td>\n",
              "      <td>185</td>\n",
              "      <td>democratic</td>\n",
              "    </tr>\n",
              "    <tr>\n",
              "      <th>44</th>\n",
              "      <td>45</td>\n",
              "      <td>Donald J. Trump</td>\n",
              "      <td>70</td>\n",
              "      <td>191</td>\n",
              "      <td>republican</td>\n",
              "    </tr>\n",
              "  </tbody>\n",
              "</table>\n",
              "</div>\n",
              "      <button class=\"colab-df-convert\" onclick=\"convertToInteractive('df-44499543-25c2-443e-997e-d30111f18a44')\"\n",
              "              title=\"Convert this dataframe to an interactive table.\"\n",
              "              style=\"display:none;\">\n",
              "        \n",
              "  <svg xmlns=\"http://www.w3.org/2000/svg\" height=\"24px\"viewBox=\"0 0 24 24\"\n",
              "       width=\"24px\">\n",
              "    <path d=\"M0 0h24v24H0V0z\" fill=\"none\"/>\n",
              "    <path d=\"M18.56 5.44l.94 2.06.94-2.06 2.06-.94-2.06-.94-.94-2.06-.94 2.06-2.06.94zm-11 1L8.5 8.5l.94-2.06 2.06-.94-2.06-.94L8.5 2.5l-.94 2.06-2.06.94zm10 10l.94 2.06.94-2.06 2.06-.94-2.06-.94-.94-2.06-.94 2.06-2.06.94z\"/><path d=\"M17.41 7.96l-1.37-1.37c-.4-.4-.92-.59-1.43-.59-.52 0-1.04.2-1.43.59L10.3 9.45l-7.72 7.72c-.78.78-.78 2.05 0 2.83L4 21.41c.39.39.9.59 1.41.59.51 0 1.02-.2 1.41-.59l7.78-7.78 2.81-2.81c.8-.78.8-2.07 0-2.86zM5.41 20L4 18.59l7.72-7.72 1.47 1.35L5.41 20z\"/>\n",
              "  </svg>\n",
              "      </button>\n",
              "      \n",
              "  <style>\n",
              "    .colab-df-container {\n",
              "      display:flex;\n",
              "      flex-wrap:wrap;\n",
              "      gap: 12px;\n",
              "    }\n",
              "\n",
              "    .colab-df-convert {\n",
              "      background-color: #E8F0FE;\n",
              "      border: none;\n",
              "      border-radius: 50%;\n",
              "      cursor: pointer;\n",
              "      display: none;\n",
              "      fill: #1967D2;\n",
              "      height: 32px;\n",
              "      padding: 0 0 0 0;\n",
              "      width: 32px;\n",
              "    }\n",
              "\n",
              "    .colab-df-convert:hover {\n",
              "      background-color: #E2EBFA;\n",
              "      box-shadow: 0px 1px 2px rgba(60, 64, 67, 0.3), 0px 1px 3px 1px rgba(60, 64, 67, 0.15);\n",
              "      fill: #174EA6;\n",
              "    }\n",
              "\n",
              "    [theme=dark] .colab-df-convert {\n",
              "      background-color: #3B4455;\n",
              "      fill: #D2E3FC;\n",
              "    }\n",
              "\n",
              "    [theme=dark] .colab-df-convert:hover {\n",
              "      background-color: #434B5C;\n",
              "      box-shadow: 0px 1px 3px 1px rgba(0, 0, 0, 0.15);\n",
              "      filter: drop-shadow(0px 1px 2px rgba(0, 0, 0, 0.3));\n",
              "      fill: #FFFFFF;\n",
              "    }\n",
              "  </style>\n",
              "\n",
              "      <script>\n",
              "        const buttonEl =\n",
              "          document.querySelector('#df-44499543-25c2-443e-997e-d30111f18a44 button.colab-df-convert');\n",
              "        buttonEl.style.display =\n",
              "          google.colab.kernel.accessAllowed ? 'block' : 'none';\n",
              "\n",
              "        async function convertToInteractive(key) {\n",
              "          const element = document.querySelector('#df-44499543-25c2-443e-997e-d30111f18a44');\n",
              "          const dataTable =\n",
              "            await google.colab.kernel.invokeFunction('convertToInteractive',\n",
              "                                                     [key], {});\n",
              "          if (!dataTable) return;\n",
              "\n",
              "          const docLinkHtml = 'Like what you see? Visit the ' +\n",
              "            '<a target=\"_blank\" href=https://colab.research.google.com/notebooks/data_table.ipynb>data table notebook</a>'\n",
              "            + ' to learn more about interactive tables.';\n",
              "          element.innerHTML = '';\n",
              "          dataTable['output_type'] = 'display_data';\n",
              "          await google.colab.output.renderOutput(dataTable, element);\n",
              "          const docLink = document.createElement('div');\n",
              "          docLink.innerHTML = docLinkHtml;\n",
              "          element.appendChild(docLink);\n",
              "        }\n",
              "      </script>\n",
              "    </div>\n",
              "  </div>\n",
              "  "
            ],
            "text/plain": [
              "    order                    name  age  height                  party\n",
              "0       1       George Washington   57     189                   none\n",
              "1       2              John Adams   61     170             federalist\n",
              "2       3        Thomas Jefferson   57     189  democratic-republican\n",
              "3       4           James Madison   57     163  democratic-republican\n",
              "4       5            James Monroe   58     183  democratic-republican\n",
              "5       6       John Quincy Adams   57     171  democratic-republican\n",
              "6       7          Andrew Jackson   61     185             democratic\n",
              "7       8        Martin Van Buren   54     168             democratic\n",
              "8       9  William Henry Harrison   68     173                   whig\n",
              "9      10              John Tyler   51     183                   whig\n",
              "10     11           James K. Polk   49     173             democratic\n",
              "11     12          Zachary Taylor   64     173                   whig\n",
              "12     13        Millard Fillmore   50     175                   whig\n",
              "13     14         Franklin Pierce   48     178             democratic\n",
              "14     15          James Buchanan   65     183             democratic\n",
              "15     16         Abraham Lincoln   52     193             republican\n",
              "16     17          Andrew Johnson   56     178         national union\n",
              "17     18        Ulysses S. Grant   46     173             republican\n",
              "18     19     Rutherford B. Hayes   54     174             republican\n",
              "19     20       James A. Garfield   49     183             republican\n",
              "20     21       Chester A. Arthur   51     183             republican\n",
              "21     22        Grover Cleveland   47     180             democratic\n",
              "22     23       Benjamin Harrison   55     168             republican\n",
              "23     25        Grover Cleveland   55     180             democratic\n",
              "24     25        William McKinley   54     170             republican\n",
              "25     26      Theodore Roosevelt   42     178             republican\n",
              "26     27     William Howard Taft   51     182             republican\n",
              "27     28          Woodrow Wilson   56     180             democratic\n",
              "28     29       Warren G. Harding   55     183             republican\n",
              "29     30         Calvin Coolidge   51     178             republican\n",
              "30     31          Herbert Hoover   54     182             republican\n",
              "31     32   Franklin D. Roosevelt   51     188             democratic\n",
              "32     33         Harry S. Truman   60     175             democratic\n",
              "33     34    Dwight D. Eisenhower   62     179             republican\n",
              "34     35         John F. Kennedy   43     183             democratic\n",
              "35     36       Lyndon B. Johnson   55     193             democratic\n",
              "36     37           Richard Nixon   56     182             republican\n",
              "37     38             Gerald Ford   61     183             republican\n",
              "38     39            Jimmy Carter   52     177             democratic\n",
              "39     40           Ronald Reagan   69     185             republican\n",
              "40     41       George H. W. Bush   64     188             republican\n",
              "41     42            Bill Clinton   46     188             democratic\n",
              "42     43          George W. Bush   54     182             republican\n",
              "43     44            Barack Obama   47     185             democratic\n",
              "44     45         Donald J. Trump   70     191             republican"
            ]
          },
          "metadata": {},
          "execution_count": 24
        }
      ]
    },
    {
      "cell_type": "code",
      "source": [
        "presidents_df.head(n=3)"
      ],
      "metadata": {
        "id": "ZXS7brwy8PuL",
        "colab": {
          "base_uri": "https://localhost:8080/",
          "height": 0
        },
        "outputId": "409f3995-5faf-4b65-c033-49ae8be58b09"
      },
      "execution_count": 25,
      "outputs": [
        {
          "output_type": "execute_result",
          "data": {
            "text/html": [
              "\n",
              "  <div id=\"df-b66c42d3-6a0c-41eb-ba85-a4adad2083f8\">\n",
              "    <div class=\"colab-df-container\">\n",
              "      <div>\n",
              "<style scoped>\n",
              "    .dataframe tbody tr th:only-of-type {\n",
              "        vertical-align: middle;\n",
              "    }\n",
              "\n",
              "    .dataframe tbody tr th {\n",
              "        vertical-align: top;\n",
              "    }\n",
              "\n",
              "    .dataframe thead th {\n",
              "        text-align: right;\n",
              "    }\n",
              "</style>\n",
              "<table border=\"1\" class=\"dataframe\">\n",
              "  <thead>\n",
              "    <tr style=\"text-align: right;\">\n",
              "      <th></th>\n",
              "      <th>order</th>\n",
              "      <th>name</th>\n",
              "      <th>age</th>\n",
              "      <th>height</th>\n",
              "      <th>party</th>\n",
              "    </tr>\n",
              "  </thead>\n",
              "  <tbody>\n",
              "    <tr>\n",
              "      <th>0</th>\n",
              "      <td>1</td>\n",
              "      <td>George Washington</td>\n",
              "      <td>57</td>\n",
              "      <td>189</td>\n",
              "      <td>none</td>\n",
              "    </tr>\n",
              "    <tr>\n",
              "      <th>1</th>\n",
              "      <td>2</td>\n",
              "      <td>John Adams</td>\n",
              "      <td>61</td>\n",
              "      <td>170</td>\n",
              "      <td>federalist</td>\n",
              "    </tr>\n",
              "    <tr>\n",
              "      <th>2</th>\n",
              "      <td>3</td>\n",
              "      <td>Thomas Jefferson</td>\n",
              "      <td>57</td>\n",
              "      <td>189</td>\n",
              "      <td>democratic-republican</td>\n",
              "    </tr>\n",
              "  </tbody>\n",
              "</table>\n",
              "</div>\n",
              "      <button class=\"colab-df-convert\" onclick=\"convertToInteractive('df-b66c42d3-6a0c-41eb-ba85-a4adad2083f8')\"\n",
              "              title=\"Convert this dataframe to an interactive table.\"\n",
              "              style=\"display:none;\">\n",
              "        \n",
              "  <svg xmlns=\"http://www.w3.org/2000/svg\" height=\"24px\"viewBox=\"0 0 24 24\"\n",
              "       width=\"24px\">\n",
              "    <path d=\"M0 0h24v24H0V0z\" fill=\"none\"/>\n",
              "    <path d=\"M18.56 5.44l.94 2.06.94-2.06 2.06-.94-2.06-.94-.94-2.06-.94 2.06-2.06.94zm-11 1L8.5 8.5l.94-2.06 2.06-.94-2.06-.94L8.5 2.5l-.94 2.06-2.06.94zm10 10l.94 2.06.94-2.06 2.06-.94-2.06-.94-.94-2.06-.94 2.06-2.06.94z\"/><path d=\"M17.41 7.96l-1.37-1.37c-.4-.4-.92-.59-1.43-.59-.52 0-1.04.2-1.43.59L10.3 9.45l-7.72 7.72c-.78.78-.78 2.05 0 2.83L4 21.41c.39.39.9.59 1.41.59.51 0 1.02-.2 1.41-.59l7.78-7.78 2.81-2.81c.8-.78.8-2.07 0-2.86zM5.41 20L4 18.59l7.72-7.72 1.47 1.35L5.41 20z\"/>\n",
              "  </svg>\n",
              "      </button>\n",
              "      \n",
              "  <style>\n",
              "    .colab-df-container {\n",
              "      display:flex;\n",
              "      flex-wrap:wrap;\n",
              "      gap: 12px;\n",
              "    }\n",
              "\n",
              "    .colab-df-convert {\n",
              "      background-color: #E8F0FE;\n",
              "      border: none;\n",
              "      border-radius: 50%;\n",
              "      cursor: pointer;\n",
              "      display: none;\n",
              "      fill: #1967D2;\n",
              "      height: 32px;\n",
              "      padding: 0 0 0 0;\n",
              "      width: 32px;\n",
              "    }\n",
              "\n",
              "    .colab-df-convert:hover {\n",
              "      background-color: #E2EBFA;\n",
              "      box-shadow: 0px 1px 2px rgba(60, 64, 67, 0.3), 0px 1px 3px 1px rgba(60, 64, 67, 0.15);\n",
              "      fill: #174EA6;\n",
              "    }\n",
              "\n",
              "    [theme=dark] .colab-df-convert {\n",
              "      background-color: #3B4455;\n",
              "      fill: #D2E3FC;\n",
              "    }\n",
              "\n",
              "    [theme=dark] .colab-df-convert:hover {\n",
              "      background-color: #434B5C;\n",
              "      box-shadow: 0px 1px 3px 1px rgba(0, 0, 0, 0.15);\n",
              "      filter: drop-shadow(0px 1px 2px rgba(0, 0, 0, 0.3));\n",
              "      fill: #FFFFFF;\n",
              "    }\n",
              "  </style>\n",
              "\n",
              "      <script>\n",
              "        const buttonEl =\n",
              "          document.querySelector('#df-b66c42d3-6a0c-41eb-ba85-a4adad2083f8 button.colab-df-convert');\n",
              "        buttonEl.style.display =\n",
              "          google.colab.kernel.accessAllowed ? 'block' : 'none';\n",
              "\n",
              "        async function convertToInteractive(key) {\n",
              "          const element = document.querySelector('#df-b66c42d3-6a0c-41eb-ba85-a4adad2083f8');\n",
              "          const dataTable =\n",
              "            await google.colab.kernel.invokeFunction('convertToInteractive',\n",
              "                                                     [key], {});\n",
              "          if (!dataTable) return;\n",
              "\n",
              "          const docLinkHtml = 'Like what you see? Visit the ' +\n",
              "            '<a target=\"_blank\" href=https://colab.research.google.com/notebooks/data_table.ipynb>data table notebook</a>'\n",
              "            + ' to learn more about interactive tables.';\n",
              "          element.innerHTML = '';\n",
              "          dataTable['output_type'] = 'display_data';\n",
              "          await google.colab.output.renderOutput(dataTable, element);\n",
              "          const docLink = document.createElement('div');\n",
              "          docLink.innerHTML = docLinkHtml;\n",
              "          element.appendChild(docLink);\n",
              "        }\n",
              "      </script>\n",
              "    </div>\n",
              "  </div>\n",
              "  "
            ],
            "text/plain": [
              "   order               name  age  height                  party\n",
              "0      1  George Washington   57     189                   none\n",
              "1      2         John Adams   61     170             federalist\n",
              "2      3   Thomas Jefferson   57     189  democratic-republican"
            ]
          },
          "metadata": {},
          "execution_count": 25
        }
      ]
    },
    {
      "cell_type": "markdown",
      "source": [
        "Instead of memorizing the integer positions to locate the order, age, height, and party information of Abraham Lincoln, with DataFrame, we can access it by the name using **.loc**\n",
        "\n",
        "**.loc[ ] allows us to select data by label or by a conditional statement.**"
      ],
      "metadata": {
        "id": "4lGXfaIx9NOL"
      }
    },
    {
      "cell_type": "code",
      "source": [
        "presidents_df = pd.read_csv(\"https://sololearn.com/uploads/files/president_heights_party.csv\", index_col= \"name\")\n",
        "presidents_df.loc[\"Abraham Lincoln\"]"
      ],
      "metadata": {
        "id": "jj78q1GA9ROS",
        "colab": {
          "base_uri": "https://localhost:8080/"
        },
        "outputId": "cc14edb1-8890-4c00-89b7-3a8e082a39d2"
      },
      "execution_count": 26,
      "outputs": [
        {
          "output_type": "execute_result",
          "data": {
            "text/plain": [
              "order             16\n",
              "age               52\n",
              "height           193\n",
              "party     republican\n",
              "Name: Abraham Lincoln, dtype: object"
            ]
          },
          "metadata": {},
          "execution_count": 26
        }
      ]
    },
    {
      "cell_type": "code",
      "source": [
        "presidents_df.loc['Abraham Lincoln'].shape"
      ],
      "metadata": {
        "colab": {
          "base_uri": "https://localhost:8080/"
        },
        "id": "TWffWqRe-qp7",
        "outputId": "100528f3-45fd-480d-d8eb-61e741b71e3d"
      },
      "execution_count": 27,
      "outputs": [
        {
          "output_type": "execute_result",
          "data": {
            "text/plain": [
              "(4,)"
            ]
          },
          "metadata": {},
          "execution_count": 27
        }
      ]
    },
    {
      "cell_type": "code",
      "source": [
        "#if we do know the integer position(s), we can use .iloc to access the row(s).\n",
        "presidents_df.iloc[15]"
      ],
      "metadata": {
        "id": "tcqy-Egb-4sK",
        "colab": {
          "base_uri": "https://localhost:8080/"
        },
        "outputId": "fa344475-8067-4313-91fb-dcd6d7968ecc"
      },
      "execution_count": 28,
      "outputs": [
        {
          "output_type": "execute_result",
          "data": {
            "text/plain": [
              "order             16\n",
              "age               52\n",
              "height           193\n",
              "party     republican\n",
              "Name: Abraham Lincoln, dtype: object"
            ]
          },
          "metadata": {},
          "execution_count": 28
        }
      ]
    },
    {
      "cell_type": "code",
      "source": [
        "presidents_df.iloc[15:18]"
      ],
      "metadata": {
        "id": "LYQTYuOW_Pni",
        "colab": {
          "base_uri": "https://localhost:8080/",
          "height": 0
        },
        "outputId": "659c1164-6026-4db4-c96f-ede20782978e"
      },
      "execution_count": 29,
      "outputs": [
        {
          "output_type": "execute_result",
          "data": {
            "text/html": [
              "\n",
              "  <div id=\"df-f67667c9-95c0-4483-afb6-107125a76da0\">\n",
              "    <div class=\"colab-df-container\">\n",
              "      <div>\n",
              "<style scoped>\n",
              "    .dataframe tbody tr th:only-of-type {\n",
              "        vertical-align: middle;\n",
              "    }\n",
              "\n",
              "    .dataframe tbody tr th {\n",
              "        vertical-align: top;\n",
              "    }\n",
              "\n",
              "    .dataframe thead th {\n",
              "        text-align: right;\n",
              "    }\n",
              "</style>\n",
              "<table border=\"1\" class=\"dataframe\">\n",
              "  <thead>\n",
              "    <tr style=\"text-align: right;\">\n",
              "      <th></th>\n",
              "      <th>order</th>\n",
              "      <th>age</th>\n",
              "      <th>height</th>\n",
              "      <th>party</th>\n",
              "    </tr>\n",
              "    <tr>\n",
              "      <th>name</th>\n",
              "      <th></th>\n",
              "      <th></th>\n",
              "      <th></th>\n",
              "      <th></th>\n",
              "    </tr>\n",
              "  </thead>\n",
              "  <tbody>\n",
              "    <tr>\n",
              "      <th>Abraham Lincoln</th>\n",
              "      <td>16</td>\n",
              "      <td>52</td>\n",
              "      <td>193</td>\n",
              "      <td>republican</td>\n",
              "    </tr>\n",
              "    <tr>\n",
              "      <th>Andrew Johnson</th>\n",
              "      <td>17</td>\n",
              "      <td>56</td>\n",
              "      <td>178</td>\n",
              "      <td>national union</td>\n",
              "    </tr>\n",
              "    <tr>\n",
              "      <th>Ulysses S. Grant</th>\n",
              "      <td>18</td>\n",
              "      <td>46</td>\n",
              "      <td>173</td>\n",
              "      <td>republican</td>\n",
              "    </tr>\n",
              "  </tbody>\n",
              "</table>\n",
              "</div>\n",
              "      <button class=\"colab-df-convert\" onclick=\"convertToInteractive('df-f67667c9-95c0-4483-afb6-107125a76da0')\"\n",
              "              title=\"Convert this dataframe to an interactive table.\"\n",
              "              style=\"display:none;\">\n",
              "        \n",
              "  <svg xmlns=\"http://www.w3.org/2000/svg\" height=\"24px\"viewBox=\"0 0 24 24\"\n",
              "       width=\"24px\">\n",
              "    <path d=\"M0 0h24v24H0V0z\" fill=\"none\"/>\n",
              "    <path d=\"M18.56 5.44l.94 2.06.94-2.06 2.06-.94-2.06-.94-.94-2.06-.94 2.06-2.06.94zm-11 1L8.5 8.5l.94-2.06 2.06-.94-2.06-.94L8.5 2.5l-.94 2.06-2.06.94zm10 10l.94 2.06.94-2.06 2.06-.94-2.06-.94-.94-2.06-.94 2.06-2.06.94z\"/><path d=\"M17.41 7.96l-1.37-1.37c-.4-.4-.92-.59-1.43-.59-.52 0-1.04.2-1.43.59L10.3 9.45l-7.72 7.72c-.78.78-.78 2.05 0 2.83L4 21.41c.39.39.9.59 1.41.59.51 0 1.02-.2 1.41-.59l7.78-7.78 2.81-2.81c.8-.78.8-2.07 0-2.86zM5.41 20L4 18.59l7.72-7.72 1.47 1.35L5.41 20z\"/>\n",
              "  </svg>\n",
              "      </button>\n",
              "      \n",
              "  <style>\n",
              "    .colab-df-container {\n",
              "      display:flex;\n",
              "      flex-wrap:wrap;\n",
              "      gap: 12px;\n",
              "    }\n",
              "\n",
              "    .colab-df-convert {\n",
              "      background-color: #E8F0FE;\n",
              "      border: none;\n",
              "      border-radius: 50%;\n",
              "      cursor: pointer;\n",
              "      display: none;\n",
              "      fill: #1967D2;\n",
              "      height: 32px;\n",
              "      padding: 0 0 0 0;\n",
              "      width: 32px;\n",
              "    }\n",
              "\n",
              "    .colab-df-convert:hover {\n",
              "      background-color: #E2EBFA;\n",
              "      box-shadow: 0px 1px 2px rgba(60, 64, 67, 0.3), 0px 1px 3px 1px rgba(60, 64, 67, 0.15);\n",
              "      fill: #174EA6;\n",
              "    }\n",
              "\n",
              "    [theme=dark] .colab-df-convert {\n",
              "      background-color: #3B4455;\n",
              "      fill: #D2E3FC;\n",
              "    }\n",
              "\n",
              "    [theme=dark] .colab-df-convert:hover {\n",
              "      background-color: #434B5C;\n",
              "      box-shadow: 0px 1px 3px 1px rgba(0, 0, 0, 0.15);\n",
              "      filter: drop-shadow(0px 1px 2px rgba(0, 0, 0, 0.3));\n",
              "      fill: #FFFFFF;\n",
              "    }\n",
              "  </style>\n",
              "\n",
              "      <script>\n",
              "        const buttonEl =\n",
              "          document.querySelector('#df-f67667c9-95c0-4483-afb6-107125a76da0 button.colab-df-convert');\n",
              "        buttonEl.style.display =\n",
              "          google.colab.kernel.accessAllowed ? 'block' : 'none';\n",
              "\n",
              "        async function convertToInteractive(key) {\n",
              "          const element = document.querySelector('#df-f67667c9-95c0-4483-afb6-107125a76da0');\n",
              "          const dataTable =\n",
              "            await google.colab.kernel.invokeFunction('convertToInteractive',\n",
              "                                                     [key], {});\n",
              "          if (!dataTable) return;\n",
              "\n",
              "          const docLinkHtml = 'Like what you see? Visit the ' +\n",
              "            '<a target=\"_blank\" href=https://colab.research.google.com/notebooks/data_table.ipynb>data table notebook</a>'\n",
              "            + ' to learn more about interactive tables.';\n",
              "          element.innerHTML = '';\n",
              "          dataTable['output_type'] = 'display_data';\n",
              "          await google.colab.output.renderOutput(dataTable, element);\n",
              "          const docLink = document.createElement('div');\n",
              "          docLink.innerHTML = docLinkHtml;\n",
              "          element.appendChild(docLink);\n",
              "        }\n",
              "      </script>\n",
              "    </div>\n",
              "  </div>\n",
              "  "
            ],
            "text/plain": [
              "                  order  age  height           party\n",
              "name                                                \n",
              "Abraham Lincoln      16   52     193      republican\n",
              "Andrew Johnson       17   56     178  national union\n",
              "Ulysses S. Grant     18   46     173      republican"
            ]
          },
          "metadata": {},
          "execution_count": 29
        }
      ]
    },
    {
      "cell_type": "code",
      "source": [
        "presidents_df.columns  #retrieve an entire column from presidents_df by name"
      ],
      "metadata": {
        "colab": {
          "base_uri": "https://localhost:8080/"
        },
        "id": "uUn1tbdY_jpC",
        "outputId": "4f6a5bf3-b227-4871-af57-2fc7b81f35cd"
      },
      "execution_count": 30,
      "outputs": [
        {
          "output_type": "execute_result",
          "data": {
            "text/plain": [
              "Index(['order', 'age', 'height', 'party'], dtype='object')"
            ]
          },
          "metadata": {},
          "execution_count": 30
        }
      ]
    },
    {
      "cell_type": "code",
      "source": [
        "presidents_df[\"height\"]\n"
      ],
      "metadata": {
        "id": "fKB3C97F_0oK",
        "colab": {
          "base_uri": "https://localhost:8080/"
        },
        "outputId": "69c42919-c941-499a-ffb4-ab5ebf085572"
      },
      "execution_count": 31,
      "outputs": [
        {
          "output_type": "execute_result",
          "data": {
            "text/plain": [
              "name\n",
              "George Washington         189\n",
              "John Adams                170\n",
              "Thomas Jefferson          189\n",
              "James Madison             163\n",
              "James Monroe              183\n",
              "John Quincy Adams         171\n",
              "Andrew Jackson            185\n",
              "Martin Van Buren          168\n",
              "William Henry Harrison    173\n",
              "John Tyler                183\n",
              "James K. Polk             173\n",
              "Zachary Taylor            173\n",
              "Millard Fillmore          175\n",
              "Franklin Pierce           178\n",
              "James Buchanan            183\n",
              "Abraham Lincoln           193\n",
              "Andrew Johnson            178\n",
              "Ulysses S. Grant          173\n",
              "Rutherford B. Hayes       174\n",
              "James A. Garfield         183\n",
              "Chester A. Arthur         183\n",
              "Grover Cleveland          180\n",
              "Benjamin Harrison         168\n",
              "Grover Cleveland          180\n",
              "William McKinley          170\n",
              "Theodore Roosevelt        178\n",
              "William Howard Taft       182\n",
              "Woodrow Wilson            180\n",
              "Warren G. Harding         183\n",
              "Calvin Coolidge           178\n",
              "Herbert Hoover            182\n",
              "Franklin D. Roosevelt     188\n",
              "Harry S. Truman           175\n",
              "Dwight D. Eisenhower      179\n",
              "John F. Kennedy           183\n",
              "Lyndon B. Johnson         193\n",
              "Richard Nixon             182\n",
              "Gerald Ford               183\n",
              "Jimmy Carter              177\n",
              "Ronald Reagan             185\n",
              "George H. W. Bush         188\n",
              "Bill Clinton              188\n",
              "George W. Bush            182\n",
              "Barack Obama              185\n",
              "Donald J. Trump           191\n",
              "Name: height, dtype: int64"
            ]
          },
          "metadata": {},
          "execution_count": 31
        }
      ]
    },
    {
      "cell_type": "code",
      "source": [
        "presidents_df[\"height\"].shape"
      ],
      "metadata": {
        "colab": {
          "base_uri": "https://localhost:8080/"
        },
        "id": "kW_LxThcAKHz",
        "outputId": "42e429b9-962c-42b4-ea6c-31bf3f6571c5"
      },
      "execution_count": 32,
      "outputs": [
        {
          "output_type": "execute_result",
          "data": {
            "text/plain": [
              "(45,)"
            ]
          },
          "metadata": {},
          "execution_count": 32
        }
      ]
    },
    {
      "cell_type": "code",
      "source": [
        "#To select multiple columns, we pass the names in a list, resulting in a DataFrame.\n",
        "# we can use .head() to access the first 3 rows\n",
        "presidents_df[['height','age']].head(n=3)"
      ],
      "metadata": {
        "colab": {
          "base_uri": "https://localhost:8080/",
          "height": 0
        },
        "id": "mBdwotdXAVIk",
        "outputId": "1a54b28f-17d3-4cfd-dff0-925d59016f28"
      },
      "execution_count": 33,
      "outputs": [
        {
          "output_type": "execute_result",
          "data": {
            "text/html": [
              "\n",
              "  <div id=\"df-6185f1a5-520a-46a6-b211-3c563a44de6b\">\n",
              "    <div class=\"colab-df-container\">\n",
              "      <div>\n",
              "<style scoped>\n",
              "    .dataframe tbody tr th:only-of-type {\n",
              "        vertical-align: middle;\n",
              "    }\n",
              "\n",
              "    .dataframe tbody tr th {\n",
              "        vertical-align: top;\n",
              "    }\n",
              "\n",
              "    .dataframe thead th {\n",
              "        text-align: right;\n",
              "    }\n",
              "</style>\n",
              "<table border=\"1\" class=\"dataframe\">\n",
              "  <thead>\n",
              "    <tr style=\"text-align: right;\">\n",
              "      <th></th>\n",
              "      <th>height</th>\n",
              "      <th>age</th>\n",
              "    </tr>\n",
              "    <tr>\n",
              "      <th>name</th>\n",
              "      <th></th>\n",
              "      <th></th>\n",
              "    </tr>\n",
              "  </thead>\n",
              "  <tbody>\n",
              "    <tr>\n",
              "      <th>George Washington</th>\n",
              "      <td>189</td>\n",
              "      <td>57</td>\n",
              "    </tr>\n",
              "    <tr>\n",
              "      <th>John Adams</th>\n",
              "      <td>170</td>\n",
              "      <td>61</td>\n",
              "    </tr>\n",
              "    <tr>\n",
              "      <th>Thomas Jefferson</th>\n",
              "      <td>189</td>\n",
              "      <td>57</td>\n",
              "    </tr>\n",
              "  </tbody>\n",
              "</table>\n",
              "</div>\n",
              "      <button class=\"colab-df-convert\" onclick=\"convertToInteractive('df-6185f1a5-520a-46a6-b211-3c563a44de6b')\"\n",
              "              title=\"Convert this dataframe to an interactive table.\"\n",
              "              style=\"display:none;\">\n",
              "        \n",
              "  <svg xmlns=\"http://www.w3.org/2000/svg\" height=\"24px\"viewBox=\"0 0 24 24\"\n",
              "       width=\"24px\">\n",
              "    <path d=\"M0 0h24v24H0V0z\" fill=\"none\"/>\n",
              "    <path d=\"M18.56 5.44l.94 2.06.94-2.06 2.06-.94-2.06-.94-.94-2.06-.94 2.06-2.06.94zm-11 1L8.5 8.5l.94-2.06 2.06-.94-2.06-.94L8.5 2.5l-.94 2.06-2.06.94zm10 10l.94 2.06.94-2.06 2.06-.94-2.06-.94-.94-2.06-.94 2.06-2.06.94z\"/><path d=\"M17.41 7.96l-1.37-1.37c-.4-.4-.92-.59-1.43-.59-.52 0-1.04.2-1.43.59L10.3 9.45l-7.72 7.72c-.78.78-.78 2.05 0 2.83L4 21.41c.39.39.9.59 1.41.59.51 0 1.02-.2 1.41-.59l7.78-7.78 2.81-2.81c.8-.78.8-2.07 0-2.86zM5.41 20L4 18.59l7.72-7.72 1.47 1.35L5.41 20z\"/>\n",
              "  </svg>\n",
              "      </button>\n",
              "      \n",
              "  <style>\n",
              "    .colab-df-container {\n",
              "      display:flex;\n",
              "      flex-wrap:wrap;\n",
              "      gap: 12px;\n",
              "    }\n",
              "\n",
              "    .colab-df-convert {\n",
              "      background-color: #E8F0FE;\n",
              "      border: none;\n",
              "      border-radius: 50%;\n",
              "      cursor: pointer;\n",
              "      display: none;\n",
              "      fill: #1967D2;\n",
              "      height: 32px;\n",
              "      padding: 0 0 0 0;\n",
              "      width: 32px;\n",
              "    }\n",
              "\n",
              "    .colab-df-convert:hover {\n",
              "      background-color: #E2EBFA;\n",
              "      box-shadow: 0px 1px 2px rgba(60, 64, 67, 0.3), 0px 1px 3px 1px rgba(60, 64, 67, 0.15);\n",
              "      fill: #174EA6;\n",
              "    }\n",
              "\n",
              "    [theme=dark] .colab-df-convert {\n",
              "      background-color: #3B4455;\n",
              "      fill: #D2E3FC;\n",
              "    }\n",
              "\n",
              "    [theme=dark] .colab-df-convert:hover {\n",
              "      background-color: #434B5C;\n",
              "      box-shadow: 0px 1px 3px 1px rgba(0, 0, 0, 0.15);\n",
              "      filter: drop-shadow(0px 1px 2px rgba(0, 0, 0, 0.3));\n",
              "      fill: #FFFFFF;\n",
              "    }\n",
              "  </style>\n",
              "\n",
              "      <script>\n",
              "        const buttonEl =\n",
              "          document.querySelector('#df-6185f1a5-520a-46a6-b211-3c563a44de6b button.colab-df-convert');\n",
              "        buttonEl.style.display =\n",
              "          google.colab.kernel.accessAllowed ? 'block' : 'none';\n",
              "\n",
              "        async function convertToInteractive(key) {\n",
              "          const element = document.querySelector('#df-6185f1a5-520a-46a6-b211-3c563a44de6b');\n",
              "          const dataTable =\n",
              "            await google.colab.kernel.invokeFunction('convertToInteractive',\n",
              "                                                     [key], {});\n",
              "          if (!dataTable) return;\n",
              "\n",
              "          const docLinkHtml = 'Like what you see? Visit the ' +\n",
              "            '<a target=\"_blank\" href=https://colab.research.google.com/notebooks/data_table.ipynb>data table notebook</a>'\n",
              "            + ' to learn more about interactive tables.';\n",
              "          element.innerHTML = '';\n",
              "          dataTable['output_type'] = 'display_data';\n",
              "          await google.colab.output.renderOutput(dataTable, element);\n",
              "          const docLink = document.createElement('div');\n",
              "          docLink.innerHTML = docLinkHtml;\n",
              "          element.appendChild(docLink);\n",
              "        }\n",
              "      </script>\n",
              "    </div>\n",
              "  </div>\n",
              "  "
            ],
            "text/plain": [
              "                   height  age\n",
              "name                          \n",
              "George Washington     189   57\n",
              "John Adams            170   61\n",
              "Thomas Jefferson      189   57"
            ]
          },
          "metadata": {},
          "execution_count": 33
        }
      ]
    },
    {
      "cell_type": "code",
      "source": [
        "# to access columns order, age, and height, we can do it with .loc.\n",
        "presidents_df.loc[:, \"order\" : \"height\"].head(n=3)"
      ],
      "metadata": {
        "id": "bKYhN9jaAigq",
        "colab": {
          "base_uri": "https://localhost:8080/",
          "height": 0
        },
        "outputId": "fb5ba2bd-e54e-4c74-82fa-5aeda4bc61a9"
      },
      "execution_count": 34,
      "outputs": [
        {
          "output_type": "execute_result",
          "data": {
            "text/html": [
              "\n",
              "  <div id=\"df-1ca441af-db09-4dcb-97be-fcb802fcab17\">\n",
              "    <div class=\"colab-df-container\">\n",
              "      <div>\n",
              "<style scoped>\n",
              "    .dataframe tbody tr th:only-of-type {\n",
              "        vertical-align: middle;\n",
              "    }\n",
              "\n",
              "    .dataframe tbody tr th {\n",
              "        vertical-align: top;\n",
              "    }\n",
              "\n",
              "    .dataframe thead th {\n",
              "        text-align: right;\n",
              "    }\n",
              "</style>\n",
              "<table border=\"1\" class=\"dataframe\">\n",
              "  <thead>\n",
              "    <tr style=\"text-align: right;\">\n",
              "      <th></th>\n",
              "      <th>order</th>\n",
              "      <th>age</th>\n",
              "      <th>height</th>\n",
              "    </tr>\n",
              "    <tr>\n",
              "      <th>name</th>\n",
              "      <th></th>\n",
              "      <th></th>\n",
              "      <th></th>\n",
              "    </tr>\n",
              "  </thead>\n",
              "  <tbody>\n",
              "    <tr>\n",
              "      <th>George Washington</th>\n",
              "      <td>1</td>\n",
              "      <td>57</td>\n",
              "      <td>189</td>\n",
              "    </tr>\n",
              "    <tr>\n",
              "      <th>John Adams</th>\n",
              "      <td>2</td>\n",
              "      <td>61</td>\n",
              "      <td>170</td>\n",
              "    </tr>\n",
              "    <tr>\n",
              "      <th>Thomas Jefferson</th>\n",
              "      <td>3</td>\n",
              "      <td>57</td>\n",
              "      <td>189</td>\n",
              "    </tr>\n",
              "  </tbody>\n",
              "</table>\n",
              "</div>\n",
              "      <button class=\"colab-df-convert\" onclick=\"convertToInteractive('df-1ca441af-db09-4dcb-97be-fcb802fcab17')\"\n",
              "              title=\"Convert this dataframe to an interactive table.\"\n",
              "              style=\"display:none;\">\n",
              "        \n",
              "  <svg xmlns=\"http://www.w3.org/2000/svg\" height=\"24px\"viewBox=\"0 0 24 24\"\n",
              "       width=\"24px\">\n",
              "    <path d=\"M0 0h24v24H0V0z\" fill=\"none\"/>\n",
              "    <path d=\"M18.56 5.44l.94 2.06.94-2.06 2.06-.94-2.06-.94-.94-2.06-.94 2.06-2.06.94zm-11 1L8.5 8.5l.94-2.06 2.06-.94-2.06-.94L8.5 2.5l-.94 2.06-2.06.94zm10 10l.94 2.06.94-2.06 2.06-.94-2.06-.94-.94-2.06-.94 2.06-2.06.94z\"/><path d=\"M17.41 7.96l-1.37-1.37c-.4-.4-.92-.59-1.43-.59-.52 0-1.04.2-1.43.59L10.3 9.45l-7.72 7.72c-.78.78-.78 2.05 0 2.83L4 21.41c.39.39.9.59 1.41.59.51 0 1.02-.2 1.41-.59l7.78-7.78 2.81-2.81c.8-.78.8-2.07 0-2.86zM5.41 20L4 18.59l7.72-7.72 1.47 1.35L5.41 20z\"/>\n",
              "  </svg>\n",
              "      </button>\n",
              "      \n",
              "  <style>\n",
              "    .colab-df-container {\n",
              "      display:flex;\n",
              "      flex-wrap:wrap;\n",
              "      gap: 12px;\n",
              "    }\n",
              "\n",
              "    .colab-df-convert {\n",
              "      background-color: #E8F0FE;\n",
              "      border: none;\n",
              "      border-radius: 50%;\n",
              "      cursor: pointer;\n",
              "      display: none;\n",
              "      fill: #1967D2;\n",
              "      height: 32px;\n",
              "      padding: 0 0 0 0;\n",
              "      width: 32px;\n",
              "    }\n",
              "\n",
              "    .colab-df-convert:hover {\n",
              "      background-color: #E2EBFA;\n",
              "      box-shadow: 0px 1px 2px rgba(60, 64, 67, 0.3), 0px 1px 3px 1px rgba(60, 64, 67, 0.15);\n",
              "      fill: #174EA6;\n",
              "    }\n",
              "\n",
              "    [theme=dark] .colab-df-convert {\n",
              "      background-color: #3B4455;\n",
              "      fill: #D2E3FC;\n",
              "    }\n",
              "\n",
              "    [theme=dark] .colab-df-convert:hover {\n",
              "      background-color: #434B5C;\n",
              "      box-shadow: 0px 1px 3px 1px rgba(0, 0, 0, 0.15);\n",
              "      filter: drop-shadow(0px 1px 2px rgba(0, 0, 0, 0.3));\n",
              "      fill: #FFFFFF;\n",
              "    }\n",
              "  </style>\n",
              "\n",
              "      <script>\n",
              "        const buttonEl =\n",
              "          document.querySelector('#df-1ca441af-db09-4dcb-97be-fcb802fcab17 button.colab-df-convert');\n",
              "        buttonEl.style.display =\n",
              "          google.colab.kernel.accessAllowed ? 'block' : 'none';\n",
              "\n",
              "        async function convertToInteractive(key) {\n",
              "          const element = document.querySelector('#df-1ca441af-db09-4dcb-97be-fcb802fcab17');\n",
              "          const dataTable =\n",
              "            await google.colab.kernel.invokeFunction('convertToInteractive',\n",
              "                                                     [key], {});\n",
              "          if (!dataTable) return;\n",
              "\n",
              "          const docLinkHtml = 'Like what you see? Visit the ' +\n",
              "            '<a target=\"_blank\" href=https://colab.research.google.com/notebooks/data_table.ipynb>data table notebook</a>'\n",
              "            + ' to learn more about interactive tables.';\n",
              "          element.innerHTML = '';\n",
              "          dataTable['output_type'] = 'display_data';\n",
              "          await google.colab.output.renderOutput(dataTable, element);\n",
              "          const docLink = document.createElement('div');\n",
              "          docLink.innerHTML = docLinkHtml;\n",
              "          element.appendChild(docLink);\n",
              "        }\n",
              "      </script>\n",
              "    </div>\n",
              "  </div>\n",
              "  "
            ],
            "text/plain": [
              "                   order  age  height\n",
              "name                                 \n",
              "George Washington      1   57     189\n",
              "John Adams             2   61     170\n",
              "Thomas Jefferson       3   57     189"
            ]
          },
          "metadata": {},
          "execution_count": 34
        }
      ]
    },
    {
      "cell_type": "markdown",
      "source": [
        "\n",
        "**Quantiles** are cut points dividing the range of the data into continuous intervals with an equal number of observations. Median is the only cut point in 2-quantiles, such that 50% of the data is below the median with the other half above it."
      ],
      "metadata": {
        "id": "c-V0kihRBhnC"
      }
    },
    {
      "cell_type": "code",
      "source": [
        "#Here 25% of presidents started their presidency at 51 years old or younger, \n",
        "# while half started their presidency at 55 years old or younger.\n",
        "presidents_df['age'].quantile([0.25, 0.5, 0.75, 1])"
      ],
      "metadata": {
        "colab": {
          "base_uri": "https://localhost:8080/"
        },
        "id": "u8iZOmiKBnKT",
        "outputId": "79305db1-6c1e-4f27-ca4e-a23de8a95edd"
      },
      "execution_count": 35,
      "outputs": [
        {
          "output_type": "execute_result",
          "data": {
            "text/plain": [
              "0.25    51.0\n",
              "0.50    55.0\n",
              "0.75    58.0\n",
              "1.00    70.0\n",
              "Name: age, dtype: float64"
            ]
          },
          "metadata": {},
          "execution_count": 35
        }
      ]
    },
    {
      "cell_type": "markdown",
      "source": [
        "**Median and Mean** are usually not of the same value, unless the data is perfectly symmetric. The mean is the average of all the numbers added together and divided by the amount of numbers added. The median is the value separating the higher half from the lower half of the data sample. In the age data, the mean is close to its median, this implies that the data might be symmetric.\n",
        "\n",
        "\n",
        "\n"
      ],
      "metadata": {
        "id": "5EBzA8tACVcD"
      }
    },
    {
      "cell_type": "code",
      "source": [
        "print(presidents_df['age'].mean())\n",
        "print(presidents_df['age'].median())"
      ],
      "metadata": {
        "colab": {
          "base_uri": "https://localhost:8080/"
        },
        "id": "Ym_VMv77CBh7",
        "outputId": "cfad697c-4545-400f-e02c-a09b3bf171de"
      },
      "execution_count": 36,
      "outputs": [
        {
          "output_type": "stream",
          "name": "stdout",
          "text": [
            "55.0\n",
            "55.0\n"
          ]
        }
      ]
    },
    {
      "cell_type": "markdown",
      "source": [
        "**variance** is the mean squared deviation of each data point from the mean of the entire dataset. You can think of it as how far apart a set of numbers are spread out from their average value. \n",
        "\n",
        "**Standard deviation (std)** is the square root of variance. A high std implies a large spread, and a low std indicates a small spread, or most points are close to the mean.\n",
        "\n"
      ],
      "metadata": {
        "id": "ULrgTHjDDMqb"
      }
    },
    {
      "cell_type": "code",
      "source": [
        "const = pd.Series([2, 2, 2])\n",
        "\n",
        "print(const.var())\n",
        "print(const.std())"
      ],
      "metadata": {
        "colab": {
          "base_uri": "https://localhost:8080/"
        },
        "id": "1_HhtrfkDHHj",
        "outputId": "161e46bf-e0b3-4957-d58e-5123a34a8911"
      },
      "execution_count": 37,
      "outputs": [
        {
          "output_type": "stream",
          "name": "stdout",
          "text": [
            "0.0\n",
            "0.0\n"
          ]
        }
      ]
    },
    {
      "cell_type": "code",
      "source": [
        "dat= pd.Series([2,3,4])\n",
        "\n",
        "print(dat.mean())\n",
        "print(dat.var())\n",
        "print(dat.std())"
      ],
      "metadata": {
        "colab": {
          "base_uri": "https://localhost:8080/"
        },
        "id": "4SQJkcteDazD",
        "outputId": "0040f572-157e-4e88-9f6e-a2f7b4ff254d"
      },
      "execution_count": 38,
      "outputs": [
        {
          "output_type": "stream",
          "name": "stdout",
          "text": [
            "3.0\n",
            "1.0\n",
            "1.0\n"
          ]
        }
      ]
    },
    {
      "cell_type": "markdown",
      "source": [
        "**describe()** prints out almost all of the summary statistics mentioned previously except for the variance. In addition, it counts all non-null values of each column.\n"
      ],
      "metadata": {
        "id": "urU4fopsEEHG"
      }
    },
    {
      "cell_type": "code",
      "source": [
        "presidents_df.describe()"
      ],
      "metadata": {
        "colab": {
          "base_uri": "https://localhost:8080/",
          "height": 0
        },
        "id": "0EJHVphdEY-U",
        "outputId": "d36776d4-708e-4a43-dea6-00958525e5f8"
      },
      "execution_count": 39,
      "outputs": [
        {
          "output_type": "execute_result",
          "data": {
            "text/html": [
              "\n",
              "  <div id=\"df-8a8d8c07-f64c-4a39-aea2-0766e02d5da7\">\n",
              "    <div class=\"colab-df-container\">\n",
              "      <div>\n",
              "<style scoped>\n",
              "    .dataframe tbody tr th:only-of-type {\n",
              "        vertical-align: middle;\n",
              "    }\n",
              "\n",
              "    .dataframe tbody tr th {\n",
              "        vertical-align: top;\n",
              "    }\n",
              "\n",
              "    .dataframe thead th {\n",
              "        text-align: right;\n",
              "    }\n",
              "</style>\n",
              "<table border=\"1\" class=\"dataframe\">\n",
              "  <thead>\n",
              "    <tr style=\"text-align: right;\">\n",
              "      <th></th>\n",
              "      <th>order</th>\n",
              "      <th>age</th>\n",
              "      <th>height</th>\n",
              "    </tr>\n",
              "  </thead>\n",
              "  <tbody>\n",
              "    <tr>\n",
              "      <th>count</th>\n",
              "      <td>45.000000</td>\n",
              "      <td>45.000000</td>\n",
              "      <td>45.000000</td>\n",
              "    </tr>\n",
              "    <tr>\n",
              "      <th>mean</th>\n",
              "      <td>23.022222</td>\n",
              "      <td>55.000000</td>\n",
              "      <td>180.000000</td>\n",
              "    </tr>\n",
              "    <tr>\n",
              "      <th>std</th>\n",
              "      <td>13.136502</td>\n",
              "      <td>6.595453</td>\n",
              "      <td>6.977236</td>\n",
              "    </tr>\n",
              "    <tr>\n",
              "      <th>min</th>\n",
              "      <td>1.000000</td>\n",
              "      <td>42.000000</td>\n",
              "      <td>163.000000</td>\n",
              "    </tr>\n",
              "    <tr>\n",
              "      <th>25%</th>\n",
              "      <td>12.000000</td>\n",
              "      <td>51.000000</td>\n",
              "      <td>175.000000</td>\n",
              "    </tr>\n",
              "    <tr>\n",
              "      <th>50%</th>\n",
              "      <td>23.000000</td>\n",
              "      <td>55.000000</td>\n",
              "      <td>182.000000</td>\n",
              "    </tr>\n",
              "    <tr>\n",
              "      <th>75%</th>\n",
              "      <td>34.000000</td>\n",
              "      <td>58.000000</td>\n",
              "      <td>183.000000</td>\n",
              "    </tr>\n",
              "    <tr>\n",
              "      <th>max</th>\n",
              "      <td>45.000000</td>\n",
              "      <td>70.000000</td>\n",
              "      <td>193.000000</td>\n",
              "    </tr>\n",
              "  </tbody>\n",
              "</table>\n",
              "</div>\n",
              "      <button class=\"colab-df-convert\" onclick=\"convertToInteractive('df-8a8d8c07-f64c-4a39-aea2-0766e02d5da7')\"\n",
              "              title=\"Convert this dataframe to an interactive table.\"\n",
              "              style=\"display:none;\">\n",
              "        \n",
              "  <svg xmlns=\"http://www.w3.org/2000/svg\" height=\"24px\"viewBox=\"0 0 24 24\"\n",
              "       width=\"24px\">\n",
              "    <path d=\"M0 0h24v24H0V0z\" fill=\"none\"/>\n",
              "    <path d=\"M18.56 5.44l.94 2.06.94-2.06 2.06-.94-2.06-.94-.94-2.06-.94 2.06-2.06.94zm-11 1L8.5 8.5l.94-2.06 2.06-.94-2.06-.94L8.5 2.5l-.94 2.06-2.06.94zm10 10l.94 2.06.94-2.06 2.06-.94-2.06-.94-.94-2.06-.94 2.06-2.06.94z\"/><path d=\"M17.41 7.96l-1.37-1.37c-.4-.4-.92-.59-1.43-.59-.52 0-1.04.2-1.43.59L10.3 9.45l-7.72 7.72c-.78.78-.78 2.05 0 2.83L4 21.41c.39.39.9.59 1.41.59.51 0 1.02-.2 1.41-.59l7.78-7.78 2.81-2.81c.8-.78.8-2.07 0-2.86zM5.41 20L4 18.59l7.72-7.72 1.47 1.35L5.41 20z\"/>\n",
              "  </svg>\n",
              "      </button>\n",
              "      \n",
              "  <style>\n",
              "    .colab-df-container {\n",
              "      display:flex;\n",
              "      flex-wrap:wrap;\n",
              "      gap: 12px;\n",
              "    }\n",
              "\n",
              "    .colab-df-convert {\n",
              "      background-color: #E8F0FE;\n",
              "      border: none;\n",
              "      border-radius: 50%;\n",
              "      cursor: pointer;\n",
              "      display: none;\n",
              "      fill: #1967D2;\n",
              "      height: 32px;\n",
              "      padding: 0 0 0 0;\n",
              "      width: 32px;\n",
              "    }\n",
              "\n",
              "    .colab-df-convert:hover {\n",
              "      background-color: #E2EBFA;\n",
              "      box-shadow: 0px 1px 2px rgba(60, 64, 67, 0.3), 0px 1px 3px 1px rgba(60, 64, 67, 0.15);\n",
              "      fill: #174EA6;\n",
              "    }\n",
              "\n",
              "    [theme=dark] .colab-df-convert {\n",
              "      background-color: #3B4455;\n",
              "      fill: #D2E3FC;\n",
              "    }\n",
              "\n",
              "    [theme=dark] .colab-df-convert:hover {\n",
              "      background-color: #434B5C;\n",
              "      box-shadow: 0px 1px 3px 1px rgba(0, 0, 0, 0.15);\n",
              "      filter: drop-shadow(0px 1px 2px rgba(0, 0, 0, 0.3));\n",
              "      fill: #FFFFFF;\n",
              "    }\n",
              "  </style>\n",
              "\n",
              "      <script>\n",
              "        const buttonEl =\n",
              "          document.querySelector('#df-8a8d8c07-f64c-4a39-aea2-0766e02d5da7 button.colab-df-convert');\n",
              "        buttonEl.style.display =\n",
              "          google.colab.kernel.accessAllowed ? 'block' : 'none';\n",
              "\n",
              "        async function convertToInteractive(key) {\n",
              "          const element = document.querySelector('#df-8a8d8c07-f64c-4a39-aea2-0766e02d5da7');\n",
              "          const dataTable =\n",
              "            await google.colab.kernel.invokeFunction('convertToInteractive',\n",
              "                                                     [key], {});\n",
              "          if (!dataTable) return;\n",
              "\n",
              "          const docLinkHtml = 'Like what you see? Visit the ' +\n",
              "            '<a target=\"_blank\" href=https://colab.research.google.com/notebooks/data_table.ipynb>data table notebook</a>'\n",
              "            + ' to learn more about interactive tables.';\n",
              "          element.innerHTML = '';\n",
              "          dataTable['output_type'] = 'display_data';\n",
              "          await google.colab.output.renderOutput(dataTable, element);\n",
              "          const docLink = document.createElement('div');\n",
              "          docLink.innerHTML = docLinkHtml;\n",
              "          element.appendChild(docLink);\n",
              "        }\n",
              "      </script>\n",
              "    </div>\n",
              "  </div>\n",
              "  "
            ],
            "text/plain": [
              "           order        age      height\n",
              "count  45.000000  45.000000   45.000000\n",
              "mean   23.022222  55.000000  180.000000\n",
              "std    13.136502   6.595453    6.977236\n",
              "min     1.000000  42.000000  163.000000\n",
              "25%    12.000000  51.000000  175.000000\n",
              "50%    23.000000  55.000000  182.000000\n",
              "75%    34.000000  58.000000  183.000000\n",
              "max    45.000000  70.000000  193.000000"
            ]
          },
          "metadata": {},
          "execution_count": 39
        }
      ]
    },
    {
      "cell_type": "code",
      "source": [
        "presidents_df['age'].describe()\n"
      ],
      "metadata": {
        "colab": {
          "base_uri": "https://localhost:8080/"
        },
        "id": "gmKSWgvlEObN",
        "outputId": "30d29370-ac62-4b6f-d899-00313ea88d11"
      },
      "execution_count": 40,
      "outputs": [
        {
          "output_type": "execute_result",
          "data": {
            "text/plain": [
              "count    45.000000\n",
              "mean     55.000000\n",
              "std       6.595453\n",
              "min      42.000000\n",
              "25%      51.000000\n",
              "50%      55.000000\n",
              "75%      58.000000\n",
              "max      70.000000\n",
              "Name: age, dtype: float64"
            ]
          },
          "metadata": {},
          "execution_count": 40
        }
      ]
    },
    {
      "cell_type": "code",
      "source": [
        "presidents_df['party'].value_counts()"
      ],
      "metadata": {
        "colab": {
          "base_uri": "https://localhost:8080/"
        },
        "id": "jNF1qm6kE6LE",
        "outputId": "944133ea-374c-4ffe-c6d4-3748bad3325b"
      },
      "execution_count": 41,
      "outputs": [
        {
          "output_type": "execute_result",
          "data": {
            "text/plain": [
              "republican               19\n",
              "democratic               15\n",
              "whig                      4\n",
              "democratic-republican     4\n",
              "federalist                1\n",
              "national union            1\n",
              "none                      1\n",
              "Name: party, dtype: int64"
            ]
          },
          "metadata": {},
          "execution_count": 41
        }
      ]
    },
    {
      "cell_type": "code",
      "source": [
        "presidents_df['party'].describe()"
      ],
      "metadata": {
        "colab": {
          "base_uri": "https://localhost:8080/"
        },
        "id": "jldqFZLrFGw8",
        "outputId": "540b4d0f-02bb-476c-e0f0-a9b83df60764"
      },
      "execution_count": 42,
      "outputs": [
        {
          "output_type": "execute_result",
          "data": {
            "text/plain": [
              "count             45\n",
              "unique             7\n",
              "top       republican\n",
              "freq              19\n",
              "Name: party, dtype: object"
            ]
          },
          "metadata": {},
          "execution_count": 42
        }
      ]
    },
    {
      "cell_type": "markdown",
      "source": [
        "To find the value based on a condition, we can use the **groupby** operation. Think of groupby doing three steps: split, apply, and combine. The split step breaks the DataFrame into multiple DataFrames based on the value of the specified key; the apply step is to perform the operation inside each smaller DataFrame; the last step combines the pieces back into the larger DataFrame "
      ],
      "metadata": {
        "id": "SC9i1AMEFx9T"
      }
    },
    {
      "cell_type": "code",
      "source": [
        "presidents_df.groupby('party')\n"
      ],
      "metadata": {
        "colab": {
          "base_uri": "https://localhost:8080/"
        },
        "id": "D68QkdfiF1QE",
        "outputId": "b910a7c7-a13c-457f-ecfa-9742a17abbc7"
      },
      "execution_count": 43,
      "outputs": [
        {
          "output_type": "execute_result",
          "data": {
            "text/plain": [
              "<pandas.core.groupby.generic.DataFrameGroupBy object at 0x7f41fa5a4ed0>"
            ]
          },
          "metadata": {},
          "execution_count": 43
        }
      ]
    },
    {
      "cell_type": "code",
      "source": [
        "#The .groupby(\"party\") returns a DataFrameGroupBy object, not a set of DataFrames.\n",
        "# To produce a result, apply an aggregate (.mean()) to this DataFrameGroupBy object:\n",
        "presidents_df.groupby('party').mean()"
      ],
      "metadata": {
        "colab": {
          "base_uri": "https://localhost:8080/",
          "height": 0
        },
        "id": "_FbkSJoYGI0m",
        "outputId": "cff039f3-326c-4297-f3f3-386c1b31252a"
      },
      "execution_count": 44,
      "outputs": [
        {
          "output_type": "execute_result",
          "data": {
            "text/html": [
              "\n",
              "  <div id=\"df-7d834ef9-6071-470e-9e7a-f0da7c599d51\">\n",
              "    <div class=\"colab-df-container\">\n",
              "      <div>\n",
              "<style scoped>\n",
              "    .dataframe tbody tr th:only-of-type {\n",
              "        vertical-align: middle;\n",
              "    }\n",
              "\n",
              "    .dataframe tbody tr th {\n",
              "        vertical-align: top;\n",
              "    }\n",
              "\n",
              "    .dataframe thead th {\n",
              "        text-align: right;\n",
              "    }\n",
              "</style>\n",
              "<table border=\"1\" class=\"dataframe\">\n",
              "  <thead>\n",
              "    <tr style=\"text-align: right;\">\n",
              "      <th></th>\n",
              "      <th>order</th>\n",
              "      <th>age</th>\n",
              "      <th>height</th>\n",
              "    </tr>\n",
              "    <tr>\n",
              "      <th>party</th>\n",
              "      <th></th>\n",
              "      <th></th>\n",
              "      <th></th>\n",
              "    </tr>\n",
              "  </thead>\n",
              "  <tbody>\n",
              "    <tr>\n",
              "      <th>democratic</th>\n",
              "      <td>26.066667</td>\n",
              "      <td>52.600000</td>\n",
              "      <td>181.066667</td>\n",
              "    </tr>\n",
              "    <tr>\n",
              "      <th>democratic-republican</th>\n",
              "      <td>4.500000</td>\n",
              "      <td>57.250000</td>\n",
              "      <td>176.500000</td>\n",
              "    </tr>\n",
              "    <tr>\n",
              "      <th>federalist</th>\n",
              "      <td>2.000000</td>\n",
              "      <td>61.000000</td>\n",
              "      <td>170.000000</td>\n",
              "    </tr>\n",
              "    <tr>\n",
              "      <th>national union</th>\n",
              "      <td>17.000000</td>\n",
              "      <td>56.000000</td>\n",
              "      <td>178.000000</td>\n",
              "    </tr>\n",
              "    <tr>\n",
              "      <th>none</th>\n",
              "      <td>1.000000</td>\n",
              "      <td>57.000000</td>\n",
              "      <td>189.000000</td>\n",
              "    </tr>\n",
              "    <tr>\n",
              "      <th>republican</th>\n",
              "      <td>29.631579</td>\n",
              "      <td>55.263158</td>\n",
              "      <td>180.894737</td>\n",
              "    </tr>\n",
              "    <tr>\n",
              "      <th>whig</th>\n",
              "      <td>11.000000</td>\n",
              "      <td>58.250000</td>\n",
              "      <td>176.000000</td>\n",
              "    </tr>\n",
              "  </tbody>\n",
              "</table>\n",
              "</div>\n",
              "      <button class=\"colab-df-convert\" onclick=\"convertToInteractive('df-7d834ef9-6071-470e-9e7a-f0da7c599d51')\"\n",
              "              title=\"Convert this dataframe to an interactive table.\"\n",
              "              style=\"display:none;\">\n",
              "        \n",
              "  <svg xmlns=\"http://www.w3.org/2000/svg\" height=\"24px\"viewBox=\"0 0 24 24\"\n",
              "       width=\"24px\">\n",
              "    <path d=\"M0 0h24v24H0V0z\" fill=\"none\"/>\n",
              "    <path d=\"M18.56 5.44l.94 2.06.94-2.06 2.06-.94-2.06-.94-.94-2.06-.94 2.06-2.06.94zm-11 1L8.5 8.5l.94-2.06 2.06-.94-2.06-.94L8.5 2.5l-.94 2.06-2.06.94zm10 10l.94 2.06.94-2.06 2.06-.94-2.06-.94-.94-2.06-.94 2.06-2.06.94z\"/><path d=\"M17.41 7.96l-1.37-1.37c-.4-.4-.92-.59-1.43-.59-.52 0-1.04.2-1.43.59L10.3 9.45l-7.72 7.72c-.78.78-.78 2.05 0 2.83L4 21.41c.39.39.9.59 1.41.59.51 0 1.02-.2 1.41-.59l7.78-7.78 2.81-2.81c.8-.78.8-2.07 0-2.86zM5.41 20L4 18.59l7.72-7.72 1.47 1.35L5.41 20z\"/>\n",
              "  </svg>\n",
              "      </button>\n",
              "      \n",
              "  <style>\n",
              "    .colab-df-container {\n",
              "      display:flex;\n",
              "      flex-wrap:wrap;\n",
              "      gap: 12px;\n",
              "    }\n",
              "\n",
              "    .colab-df-convert {\n",
              "      background-color: #E8F0FE;\n",
              "      border: none;\n",
              "      border-radius: 50%;\n",
              "      cursor: pointer;\n",
              "      display: none;\n",
              "      fill: #1967D2;\n",
              "      height: 32px;\n",
              "      padding: 0 0 0 0;\n",
              "      width: 32px;\n",
              "    }\n",
              "\n",
              "    .colab-df-convert:hover {\n",
              "      background-color: #E2EBFA;\n",
              "      box-shadow: 0px 1px 2px rgba(60, 64, 67, 0.3), 0px 1px 3px 1px rgba(60, 64, 67, 0.15);\n",
              "      fill: #174EA6;\n",
              "    }\n",
              "\n",
              "    [theme=dark] .colab-df-convert {\n",
              "      background-color: #3B4455;\n",
              "      fill: #D2E3FC;\n",
              "    }\n",
              "\n",
              "    [theme=dark] .colab-df-convert:hover {\n",
              "      background-color: #434B5C;\n",
              "      box-shadow: 0px 1px 3px 1px rgba(0, 0, 0, 0.15);\n",
              "      filter: drop-shadow(0px 1px 2px rgba(0, 0, 0, 0.3));\n",
              "      fill: #FFFFFF;\n",
              "    }\n",
              "  </style>\n",
              "\n",
              "      <script>\n",
              "        const buttonEl =\n",
              "          document.querySelector('#df-7d834ef9-6071-470e-9e7a-f0da7c599d51 button.colab-df-convert');\n",
              "        buttonEl.style.display =\n",
              "          google.colab.kernel.accessAllowed ? 'block' : 'none';\n",
              "\n",
              "        async function convertToInteractive(key) {\n",
              "          const element = document.querySelector('#df-7d834ef9-6071-470e-9e7a-f0da7c599d51');\n",
              "          const dataTable =\n",
              "            await google.colab.kernel.invokeFunction('convertToInteractive',\n",
              "                                                     [key], {});\n",
              "          if (!dataTable) return;\n",
              "\n",
              "          const docLinkHtml = 'Like what you see? Visit the ' +\n",
              "            '<a target=\"_blank\" href=https://colab.research.google.com/notebooks/data_table.ipynb>data table notebook</a>'\n",
              "            + ' to learn more about interactive tables.';\n",
              "          element.innerHTML = '';\n",
              "          dataTable['output_type'] = 'display_data';\n",
              "          await google.colab.output.renderOutput(dataTable, element);\n",
              "          const docLink = document.createElement('div');\n",
              "          docLink.innerHTML = docLinkHtml;\n",
              "          element.appendChild(docLink);\n",
              "        }\n",
              "      </script>\n",
              "    </div>\n",
              "  </div>\n",
              "  "
            ],
            "text/plain": [
              "                           order        age      height\n",
              "party                                                  \n",
              "democratic             26.066667  52.600000  181.066667\n",
              "democratic-republican   4.500000  57.250000  176.500000\n",
              "federalist              2.000000  61.000000  170.000000\n",
              "national union         17.000000  56.000000  178.000000\n",
              "none                    1.000000  57.000000  189.000000\n",
              "republican             29.631579  55.263158  180.894737\n",
              "whig                   11.000000  58.250000  176.000000"
            ]
          },
          "metadata": {},
          "execution_count": 44
        }
      ]
    },
    {
      "cell_type": "markdown",
      "source": [
        "We can also perform multiple operations on the groupby object using **.agg()** method. It takes a string, a function, or a list thereof. For example, we would like to obtain the min, median, and max values of heights grouped by party\n",
        "\n",
        "Using **groupby and agg** provides us the flexibility and therefore the power to look into various perspectives of a variable or column conditioned on categories."
      ],
      "metadata": {
        "id": "o6bPImGaHIX1"
      }
    },
    {
      "cell_type": "code",
      "source": [
        "presidents_df.groupby('party')['height'].agg(['min', np.median, max])"
      ],
      "metadata": {
        "id": "INyL2F8jHLyN",
        "colab": {
          "base_uri": "https://localhost:8080/",
          "height": 0
        },
        "outputId": "03574b86-66da-4d83-ff84-4363d738021e"
      },
      "execution_count": 45,
      "outputs": [
        {
          "output_type": "execute_result",
          "data": {
            "text/html": [
              "\n",
              "  <div id=\"df-d3071b4a-c3d3-4959-b0b3-a7eedb263cd8\">\n",
              "    <div class=\"colab-df-container\">\n",
              "      <div>\n",
              "<style scoped>\n",
              "    .dataframe tbody tr th:only-of-type {\n",
              "        vertical-align: middle;\n",
              "    }\n",
              "\n",
              "    .dataframe tbody tr th {\n",
              "        vertical-align: top;\n",
              "    }\n",
              "\n",
              "    .dataframe thead th {\n",
              "        text-align: right;\n",
              "    }\n",
              "</style>\n",
              "<table border=\"1\" class=\"dataframe\">\n",
              "  <thead>\n",
              "    <tr style=\"text-align: right;\">\n",
              "      <th></th>\n",
              "      <th>min</th>\n",
              "      <th>median</th>\n",
              "      <th>max</th>\n",
              "    </tr>\n",
              "    <tr>\n",
              "      <th>party</th>\n",
              "      <th></th>\n",
              "      <th></th>\n",
              "      <th></th>\n",
              "    </tr>\n",
              "  </thead>\n",
              "  <tbody>\n",
              "    <tr>\n",
              "      <th>democratic</th>\n",
              "      <td>168</td>\n",
              "      <td>180</td>\n",
              "      <td>193</td>\n",
              "    </tr>\n",
              "    <tr>\n",
              "      <th>democratic-republican</th>\n",
              "      <td>163</td>\n",
              "      <td>177</td>\n",
              "      <td>189</td>\n",
              "    </tr>\n",
              "    <tr>\n",
              "      <th>federalist</th>\n",
              "      <td>170</td>\n",
              "      <td>170</td>\n",
              "      <td>170</td>\n",
              "    </tr>\n",
              "    <tr>\n",
              "      <th>national union</th>\n",
              "      <td>178</td>\n",
              "      <td>178</td>\n",
              "      <td>178</td>\n",
              "    </tr>\n",
              "    <tr>\n",
              "      <th>none</th>\n",
              "      <td>189</td>\n",
              "      <td>189</td>\n",
              "      <td>189</td>\n",
              "    </tr>\n",
              "    <tr>\n",
              "      <th>republican</th>\n",
              "      <td>168</td>\n",
              "      <td>182</td>\n",
              "      <td>193</td>\n",
              "    </tr>\n",
              "    <tr>\n",
              "      <th>whig</th>\n",
              "      <td>173</td>\n",
              "      <td>174</td>\n",
              "      <td>183</td>\n",
              "    </tr>\n",
              "  </tbody>\n",
              "</table>\n",
              "</div>\n",
              "      <button class=\"colab-df-convert\" onclick=\"convertToInteractive('df-d3071b4a-c3d3-4959-b0b3-a7eedb263cd8')\"\n",
              "              title=\"Convert this dataframe to an interactive table.\"\n",
              "              style=\"display:none;\">\n",
              "        \n",
              "  <svg xmlns=\"http://www.w3.org/2000/svg\" height=\"24px\"viewBox=\"0 0 24 24\"\n",
              "       width=\"24px\">\n",
              "    <path d=\"M0 0h24v24H0V0z\" fill=\"none\"/>\n",
              "    <path d=\"M18.56 5.44l.94 2.06.94-2.06 2.06-.94-2.06-.94-.94-2.06-.94 2.06-2.06.94zm-11 1L8.5 8.5l.94-2.06 2.06-.94-2.06-.94L8.5 2.5l-.94 2.06-2.06.94zm10 10l.94 2.06.94-2.06 2.06-.94-2.06-.94-.94-2.06-.94 2.06-2.06.94z\"/><path d=\"M17.41 7.96l-1.37-1.37c-.4-.4-.92-.59-1.43-.59-.52 0-1.04.2-1.43.59L10.3 9.45l-7.72 7.72c-.78.78-.78 2.05 0 2.83L4 21.41c.39.39.9.59 1.41.59.51 0 1.02-.2 1.41-.59l7.78-7.78 2.81-2.81c.8-.78.8-2.07 0-2.86zM5.41 20L4 18.59l7.72-7.72 1.47 1.35L5.41 20z\"/>\n",
              "  </svg>\n",
              "      </button>\n",
              "      \n",
              "  <style>\n",
              "    .colab-df-container {\n",
              "      display:flex;\n",
              "      flex-wrap:wrap;\n",
              "      gap: 12px;\n",
              "    }\n",
              "\n",
              "    .colab-df-convert {\n",
              "      background-color: #E8F0FE;\n",
              "      border: none;\n",
              "      border-radius: 50%;\n",
              "      cursor: pointer;\n",
              "      display: none;\n",
              "      fill: #1967D2;\n",
              "      height: 32px;\n",
              "      padding: 0 0 0 0;\n",
              "      width: 32px;\n",
              "    }\n",
              "\n",
              "    .colab-df-convert:hover {\n",
              "      background-color: #E2EBFA;\n",
              "      box-shadow: 0px 1px 2px rgba(60, 64, 67, 0.3), 0px 1px 3px 1px rgba(60, 64, 67, 0.15);\n",
              "      fill: #174EA6;\n",
              "    }\n",
              "\n",
              "    [theme=dark] .colab-df-convert {\n",
              "      background-color: #3B4455;\n",
              "      fill: #D2E3FC;\n",
              "    }\n",
              "\n",
              "    [theme=dark] .colab-df-convert:hover {\n",
              "      background-color: #434B5C;\n",
              "      box-shadow: 0px 1px 3px 1px rgba(0, 0, 0, 0.15);\n",
              "      filter: drop-shadow(0px 1px 2px rgba(0, 0, 0, 0.3));\n",
              "      fill: #FFFFFF;\n",
              "    }\n",
              "  </style>\n",
              "\n",
              "      <script>\n",
              "        const buttonEl =\n",
              "          document.querySelector('#df-d3071b4a-c3d3-4959-b0b3-a7eedb263cd8 button.colab-df-convert');\n",
              "        buttonEl.style.display =\n",
              "          google.colab.kernel.accessAllowed ? 'block' : 'none';\n",
              "\n",
              "        async function convertToInteractive(key) {\n",
              "          const element = document.querySelector('#df-d3071b4a-c3d3-4959-b0b3-a7eedb263cd8');\n",
              "          const dataTable =\n",
              "            await google.colab.kernel.invokeFunction('convertToInteractive',\n",
              "                                                     [key], {});\n",
              "          if (!dataTable) return;\n",
              "\n",
              "          const docLinkHtml = 'Like what you see? Visit the ' +\n",
              "            '<a target=\"_blank\" href=https://colab.research.google.com/notebooks/data_table.ipynb>data table notebook</a>'\n",
              "            + ' to learn more about interactive tables.';\n",
              "          element.innerHTML = '';\n",
              "          dataTable['output_type'] = 'display_data';\n",
              "          await google.colab.output.renderOutput(dataTable, element);\n",
              "          const docLink = document.createElement('div');\n",
              "          docLink.innerHTML = docLinkHtml;\n",
              "          element.appendChild(docLink);\n",
              "        }\n",
              "      </script>\n",
              "    </div>\n",
              "  </div>\n",
              "  "
            ],
            "text/plain": [
              "                       min  median  max\n",
              "party                                  \n",
              "democratic             168     180  193\n",
              "democratic-republican  163     177  189\n",
              "federalist             170     170  170\n",
              "national union         178     178  178\n",
              "none                   189     189  189\n",
              "republican             168     182  193\n",
              "whig                   173     174  183"
            ]
          },
          "metadata": {},
          "execution_count": 45
        }
      ]
    },
    {
      "cell_type": "markdown",
      "source": [
        "# **Matplotlib**"
      ],
      "metadata": {
        "id": "q-Tp8DUGJUp9"
      }
    },
    {
      "cell_type": "markdown",
      "source": [
        "A picture is worth a thousand words.\" rings true in data science. Data **visualization** can reveal patterns that are not obvious and communicate the insights more effectively. In this part, we will take a look at the Matplotlib library, one of the most popular data visualization tools, operating on numpy arrays as well as pandas Series and DataFrames. By convention, we import the library under a shorter name:"
      ],
      "metadata": {
        "id": "a7FI-Y-cJdxk"
      }
    },
    {
      "cell_type": "code",
      "source": [
        "import matplotlib as mpl"
      ],
      "metadata": {
        "id": "q0_Bc8BQQ9D_"
      },
      "execution_count": 46,
      "outputs": []
    },
    {
      "cell_type": "markdown",
      "source": [
        " the module **matplotlib.pyplot**, a collection of command style functions that make matplotlib work like **MATLAB**"
      ],
      "metadata": {
        "id": "cUV9Zz1NRJ5H"
      }
    },
    {
      "cell_type": "code",
      "source": [
        "import matplotlib.pyplot as plt\n"
      ],
      "metadata": {
        "id": "tg4mPK8cRmM-"
      },
      "execution_count": 47,
      "outputs": []
    },
    {
      "cell_type": "markdown",
      "source": [
        "For all matplotlib plots, first create a figure and an axes object; to show the plot, call “plt.show()”. The figure contains all the objects, including axes, graphics, texts, and labels. The axes is a bounding box with ticks and labels. Think of axes as an individual plot."
      ],
      "metadata": {
        "id": "_yhlvuYOSA5V"
      }
    },
    {
      "cell_type": "code",
      "source": [
        "fig = plt.figure()\n",
        "ax = plt.axes()\n",
        "plt.savefig('fig.png')\n",
        "plt.show()"
      ],
      "metadata": {
        "colab": {
          "base_uri": "https://localhost:8080/",
          "height": 0
        },
        "id": "Zftg9rr3SCaN",
        "outputId": "f1575a31-a5e3-4a27-a569-8753dbfc7abc"
      },
      "execution_count": 48,
      "outputs": [
        {
          "output_type": "display_data",
          "data": {
            "image/png": "[encoded data removed]",
            "text/plain": [
              "<Figure size 432x288 with 1 Axes>"
            ]
          },
          "metadata": {
            "needs_background": "light"
          }
        }
      ]
    },
    {
      "cell_type": "code",
      "source": [
        "x = np.linspace(0,10,1000) # x is a 1000 evenly spaced numbers from 0 to 10\n",
        "y = np.sin(x)\n",
        "fig = plt.figure()  #To plot, as before, we first create the figure and axes objects.\n",
        "ax = plt.axes()     \n",
        "ax.plot(x, y)       #make a plot directly from the Axes\n",
        "plt.savefig(\"plot.png\") \n",
        "plt.show()            #To show the plot, we need to call show()."
      ],
      "metadata": {
        "colab": {
          "base_uri": "https://localhost:8080/",
          "height": 0
        },
        "id": "a1sjUeCcTV5N",
        "outputId": "a8b963df-b4ea-4237-a015-c146dc68b7a4"
      },
      "execution_count": 49,
      "outputs": [
        {
          "output_type": "display_data",
          "data": {
            "image/png": "[encoded data removed]",
            "text/plain": [
              "<Figure size 432x288 with 1 Axes>"
            ]
          },
          "metadata": {
            "needs_background": "light"
          }
        }
      ]
    },
    {
      "cell_type": "code",
      "source": [
        "ax.plot(x, y)\n",
        "plt.show()"
      ],
      "metadata": {
        "id": "ZsE53s2aUOOm"
      },
      "execution_count": 50,
      "outputs": []
    },
    {
      "cell_type": "markdown",
      "source": [
        "One critical component of every figure is the figure title. The job of the title is to accurately communicate what the figure is about. In addition, axes need titles, or more commonly referred to as axis labels. The axis labels explain what the plotted data values are. We can specify the x and y axis labels and a title using **plt.xlabel()**, **plt.ylabel()** and **plt.title().**"
      ],
      "metadata": {
        "id": "VSN3FNlMWJkQ"
      }
    },
    {
      "cell_type": "code",
      "source": [
        "plt.plot(x, y)\n",
        "plt.xlabel('x')\n",
        "plt.ylabel('y')\n",
        "plt.title('function sin(x)')\n",
        "plt.savefig(\"plot.png\")\n",
        "plt.show()"
      ],
      "metadata": {
        "colab": {
          "base_uri": "https://localhost:8080/",
          "height": 0
        },
        "id": "tuztOvpJWDiH",
        "outputId": "02108d3d-3460-4a4f-c6ce-3485c243e819"
      },
      "execution_count": 51,
      "outputs": [
        {
          "output_type": "display_data",
          "data": {
            "image/png": "[encoded data removed]",
            "text/plain": [
              "<Figure size 432x288 with 1 Axes>"
            ]
          },
          "metadata": {
            "needs_background": "light"
          }
        }
      ]
    },
    {
      "cell_type": "markdown",
      "source": [
        "We can plot multiple lines on the same figure. Say, the sin function capture the tides on the east coast and cos function capture the tides on the west coast at the same time, we can plot them both on the same figure by calling the **.plot()** function multiple times."
      ],
      "metadata": {
        "id": "YBaRG1nSWr9f"
      }
    },
    {
      "cell_type": "code",
      "source": [
        "x = np.linspace(0,10,1000)      # 1darray of length 1000\n",
        "y = np.sin(x)\n",
        "plt.plot(x, np.sin(x))\n",
        "plt.plot(x, np.cos(x))\n",
        "plt.savefig(\"plot.png\")\n",
        "plt.show()"
      ],
      "metadata": {
        "id": "DtFGiaV9Wcjf",
        "colab": {
          "base_uri": "https://localhost:8080/",
          "height": 0
        },
        "outputId": "f0c3dccf-9c58-4064-f964-49cf53df9538"
      },
      "execution_count": 52,
      "outputs": [
        {
          "output_type": "display_data",
          "data": {
            "image/png": "[encoded data removed]",
            "text/plain": [
              "<Figure size 432x288 with 1 Axes>"
            ]
          },
          "metadata": {
            "needs_background": "light"
          }
        }
      ]
    },
    {
      "cell_type": "code",
      "source": [
        "#Colors and line styles can be specified to differentiate lines:\n",
        "\n",
        "plt.plot(x, np.sin(x), color='k')\n",
        "plt.plot(x, np.cos(x), color='r', linestyle ='--')\n",
        "plt.savefig(\"plot.png\")\n",
        "plt.show()"
      ],
      "metadata": {
        "colab": {
          "base_uri": "https://localhost:8080/",
          "height": 0
        },
        "id": "fskLBKR_W3rA",
        "outputId": "7a4bd2e6-4670-46b4-bc48-eab176cbf93c"
      },
      "execution_count": 53,
      "outputs": [
        {
          "output_type": "display_data",
          "data": {
            "image/png": "[encoded data removed]",
            "text/plain": [
              "<Figure size 432x288 with 1 Axes>"
            ]
          },
          "metadata": {
            "needs_background": "light"
          }
        }
      ]
    },
    {
      "cell_type": "markdown",
      "source": [
        "When there are multiple lines on a single axes, it’s often useful to create a plot **legend** labeling each line. We can use the method **plt.legend()**, in conjunction with specifying labels in the **plt.plot()**"
      ],
      "metadata": {
        "id": "8JO8EGlwXZvh"
      }
    },
    {
      "cell_type": "code",
      "source": [
        "plt.plot(x, np.sin(x), 'k:', label='sin(x)')\n",
        "plt.plot(x, np.cos(x), 'r--', label='cos(x)')\n",
        "plt.legend()\n",
        "plt.savefig(\"plot.png\")\n",
        "plt.show()"
      ],
      "metadata": {
        "colab": {
          "base_uri": "https://localhost:8080/",
          "height": 0
        },
        "id": "3N499X3wXZfI",
        "outputId": "454432bb-0314-4440-d551-1040f17ccf47"
      },
      "execution_count": 54,
      "outputs": [
        {
          "output_type": "display_data",
          "data": {
            "image/png": "[encoded data removed]",
            "text/plain": [
              "<Figure size 432x288 with 1 Axes>"
            ]
          },
          "metadata": {
            "needs_background": "light"
          }
        }
      ]
    },
    {
      "cell_type": "markdown",
      "source": [
        "**Scatter plot** is a useful tool to display the relationship between two features; whereas a line plot puts more emphasis on the change between points as its slope depicts the rate of change."
      ],
      "metadata": {
        "id": "CSAdKspZYvDp"
      }
    },
    {
      "cell_type": "markdown",
      "source": [
        "in **scatter plot**, instead of points being joined by line segments, points are represented individually with a dot, or another shape. Pass 'o' in the plt.plot(), or use plt.scatter() to show the relationship of heights and ages:"
      ],
      "metadata": {
        "id": "ntewnqsUX73K"
      }
    },
    {
      "cell_type": "code",
      "source": [
        "plt.scatter(presidents_df['height'], presidents_df['age'])\n",
        "plt.savefig(\"plot.png\")\n",
        "plt.show()"
      ],
      "metadata": {
        "colab": {
          "base_uri": "https://localhost:8080/",
          "height": 0
        },
        "id": "1kPtzoCjYSDB",
        "outputId": "a422f7d7-2794-4dd1-acff-22fb2b59be96"
      },
      "execution_count": 55,
      "outputs": [
        {
          "output_type": "display_data",
          "data": {
            "image/png": "[encoded data removed]",
            "text/plain": [
              "<Figure size 432x288 with 1 Axes>"
            ]
          },
          "metadata": {
            "needs_background": "light"
          }
        }
      ]
    },
    {
      "cell_type": "markdown",
      "source": [
        "we created a scatter plot demonstrating the correlation between heights and ages of the presidents. Note that Matplotlib infers the appropriate ranges for us from the data along both x- and y-axis."
      ],
      "metadata": {
        "id": "iskXbjp0YfXn"
      }
    },
    {
      "cell_type": "markdown",
      "source": [
        "By default, each data point is a full circle, and there is a good collection of other shapes. For example, we can pass '<' to draw a triangle pointing to the left, in addition we specify the color to blue:"
      ],
      "metadata": {
        "id": "EqBKm4L4YiQh"
      }
    },
    {
      "cell_type": "code",
      "source": [
        "plt.scatter(presidents_df['height'], presidents_df['age'],\n",
        "   marker='<',\n",
        "   color='b')\n",
        "plt.xlabel('height'); \n",
        "plt.ylabel('age')\n",
        "plt.title('U.S. presidents')\n",
        "plt.savefig(\"plot.png\")\n",
        "plt.show()"
      ],
      "metadata": {
        "colab": {
          "base_uri": "https://localhost:8080/",
          "height": 0
        },
        "id": "ZWt_LUZbYlIQ",
        "outputId": "6c52e210-4494-4ba9-d08f-fcc170a2d741"
      },
      "execution_count": 56,
      "outputs": [
        {
          "output_type": "display_data",
          "data": {
            "image/png": "[encoded data removed]",
            "text/plain": [
              "<Figure size 432x288 with 1 Axes>"
            ]
          },
          "metadata": {
            "needs_background": "light"
          }
        }
      ]
    },
    {
      "cell_type": "markdown",
      "source": [
        "**Pandas** can also integrates well with matplotlib, so we can plot directly from DataFrames and Series. We specify the kind of plot as 'scatter', 'height' along x-axis, and 'age' along y-axis, and then give it a title:\n"
      ],
      "metadata": {
        "id": "XLJeCfbTZLB3"
      }
    },
    {
      "cell_type": "code",
      "source": [
        "presidents_df.plot(kind = 'scatter', \n",
        "  x = 'height', \n",
        "  y = 'age',\n",
        "  title = 'U.S. presidents')\n",
        "plt.savefig(\"plot.png\")\n",
        "plt.show()"
      ],
      "metadata": {
        "colab": {
          "base_uri": "https://localhost:8080/",
          "height": 0
        },
        "id": "W9l_SV8YZUUw",
        "outputId": "ab53f455-7253-4fcc-ea1c-97f234603d70"
      },
      "execution_count": 57,
      "outputs": [
        {
          "output_type": "display_data",
          "data": {
            "image/png": "[encoded data removed]",
            "text/plain": [
              "<Figure size 432x288 with 1 Axes>"
            ]
          },
          "metadata": {
            "needs_background": "light"
          }
        }
      ]
    },
    {
      "cell_type": "markdown",
      "source": [
        "A histogram is a diagram that consists of rectangles with width equal to the interval and area proportional to the frequency of a variable."
      ],
      "metadata": {
        "id": "hpr7qq9vZlyP"
      }
    },
    {
      "cell_type": "code",
      "source": [
        "presidents_df['height'].plot(kind='hist',\n",
        "  title = 'height',\n",
        "  bins=5)\n",
        "plt.savefig(\"plot.png\")\n",
        "plt.show()"
      ],
      "metadata": {
        "colab": {
          "base_uri": "https://localhost:8080/",
          "height": 0
        },
        "id": "JSXLq0ANZy_Z",
        "outputId": "9e063e5b-c3fc-43cb-e503-78b45c71054b"
      },
      "execution_count": 58,
      "outputs": [
        {
          "output_type": "display_data",
          "data": {
            "image/png": "[encoded data removed]",
            "text/plain": [
              "<Figure size 432x288 with 1 Axes>"
            ]
          },
          "metadata": {
            "needs_background": "light"
          }
        }
      ]
    },
    {
      "cell_type": "code",
      "source": [
        "plt.hist(presidents_df['height'], bins=5)   #creates the same plot as above"
      ],
      "metadata": {
        "colab": {
          "base_uri": "https://localhost:8080/",
          "height": 0
        },
        "id": "FQHObcFrZ6-g",
        "outputId": "142e7ab0-e5af-4d9d-ad8c-ec0fdac2d038"
      },
      "execution_count": 59,
      "outputs": [
        {
          "output_type": "execute_result",
          "data": {
            "text/plain": [
              "(array([ 3.,  8., 11., 15.,  8.]),\n",
              " array([163., 169., 175., 181., 187., 193.]),\n",
              " <a list of 5 Patch objects>)"
            ]
          },
          "metadata": {},
          "execution_count": 59
        },
        {
          "output_type": "display_data",
          "data": {
            "image/png": "[encoded data removed]",
            "text/plain": [
              "<Figure size 432x288 with 1 Axes>"
            ]
          },
          "metadata": {
            "needs_background": "light"
          }
        }
      ]
    },
    {
      "cell_type": "markdown",
      "source": [
        "**BOXPLOT**"
      ],
      "metadata": {
        "id": "uHYLNjRKcAL4"
      }
    },
    {
      "cell_type": "code",
      "source": [
        "plt.style.use('classic')\n",
        "presidents_df.boxplot(column='height');\n",
        "plt.savefig(\"plot.png\")\n",
        "plt.show()\n",
        "\n",
        "# The blue box indicates the interquartile range (IQR, between the first quartile and the third),\n",
        "# in other words, 50% data fall in this range. \n",
        "# The red bar shows the median, and the lower and upper black whiskers are minimum and maximum."
      ],
      "metadata": {
        "colab": {
          "base_uri": "https://localhost:8080/",
          "height": 0
        },
        "id": "vF0CwKBMaAv7",
        "outputId": "40902abf-01fe-4795-a674-b8a348d55b2f"
      },
      "execution_count": 60,
      "outputs": [
        {
          "output_type": "display_data",
          "data": {
            "image/png": "[encoded data removed]",
            "text/plain": [
              "<Figure size 640x480 with 1 Axes>"
            ]
          },
          "metadata": {}
        }
      ]
    },
    {
      "cell_type": "markdown",
      "source": [
        "**BAR PLOTS** show the distribution of data over several groups. For example, a bar plot can depict the distribution of presidents by party.   "
      ],
      "metadata": {
        "id": "uA5k9pYQcE6x"
      }
    },
    {
      "cell_type": "markdown",
      "source": [
        "**Bar plots are commonly confused with a histogram. Histogram presents numerical data whereas bar plot shows categorical data. The histogram is drawn in such a way that there is no gap between the bars, unlike in bar plots.**"
      ],
      "metadata": {
        "id": "WNP8yIhicfGI"
      }
    },
    {
      "cell_type": "code",
      "source": [
        "party_cnt = presidents_df['party'].value_counts()\n",
        "\n",
        "plt.style.use('ggplot')\n",
        "party_cnt.plot(kind ='bar')\n",
        "plt.savefig(\"plot.png\")\n",
        "plt.show()"
      ],
      "metadata": {
        "colab": {
          "base_uri": "https://localhost:8080/",
          "height": 0
        },
        "id": "9JSK1iE-cUlK",
        "outputId": "7a9c5895-34d0-4ad6-ef6a-60b5e033abae"
      },
      "execution_count": 61,
      "outputs": [
        {
          "output_type": "display_data",
          "data": {
            "image/png": "[encoded data removed]",
            "text/plain": [
              "<Figure size 640x480 with 1 Axes>"
            ]
          },
          "metadata": {}
        }
      ]
    },
    {
      "cell_type": "code",
      "source": [
        ""
      ],
      "metadata": {
        "id": "FUL5VyPZckP6"
      },
      "execution_count": 61,
      "outputs": []
    },
    {
      "cell_type": "markdown",
      "source": [
        "# **Linear Regression**"
      ],
      "metadata": {
        "id": "TpvduskCCXWv"
      }
    },
    {
      "cell_type": "markdown",
      "source": [
        "**Machine Learning**\n",
        "\n",
        "Machine learning, a subset of data science, is the scientific study of **computational algorithms** and **statistical models** to perform specific tasks through patterns and inference instead of explicit instructions. Machine learning can be described as a set of tools to build models on data.\n",
        "\n",
        "**Data scientists** explore data, select and build models (machine), tune parameters such that a model fits observations (learning), then use the model to predict and understand aspects of new unseen data."
      ],
      "metadata": {
        "id": "s28g0LJVDF8n"
      }
    },
    {
      "cell_type": "markdown",
      "source": [
        "**Supervised and Unsupervised Learning**\n",
        "\n",
        "\n",
        "In Machine Learning, we talk about **supervised** and **unsupervised learning**. \n",
        "Supervised learning is when we have a known target (also called label) based on past data (for example, predicting what price a house will sell for) and unsupervised learning is when there isn’t a known past answer (for example, determining the topics discussed in restaurant reviews).\n",
        "\n",
        "In this module we will explore **Linear Regression**, a **supervised machine learning algorithm**. In the modules to come we will also explore another supervised machine learning algorithm, **classification**, as well as an unsupervised machine learning algorithm, **clustering.**"
      ],
      "metadata": {
        "id": "dg83aw13DhVP"
      }
    },
    {
      "cell_type": "markdown",
      "source": [
        "**Scikit-learn**\n",
        "\n",
        "\n",
        "Scikit-learn, one of the best known machine learning libraries in python for machine learning, implements a large number of commonly used algorithms. Regardless of the type of algorithm, the syntax follows the same workflow: \n",
        "**import > instantiate > fit > predict.** \n",
        "\n",
        "Once the basic use and syntax of Scikit-learn is understood for one model, switching to a new algorithm is straightforward. Thus for the rest of the course we will be working with scikit-learn to build machine learning models in different use cases.\n",
        "\n",
        "In this module, we learn how to predict housing prices in Boston, USA using linear regression."
      ],
      "metadata": {
        "id": "HbkRyjJ_EzlA"
      }
    },
    {
      "cell_type": "markdown",
      "source": [
        "We start with linear regression, a simple supervised learning model. Linear regression fits a straight line to data, mathematically:\n",
        "\n",
        "y = b + m*x \n",
        "\n",
        "where b is the** intercept** and m is the **slope**, x is a **feature** or an **input**, whereas y is **label **or an **output**. Our job is to find m and b such that the errors are **minimized**."
      ],
      "metadata": {
        "id": "tZOWeICaGliD"
      }
    }
  ]
}