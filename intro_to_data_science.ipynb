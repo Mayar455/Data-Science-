{
  "nbformat": 4,
  "nbformat_minor": 0,
  "metadata": {
    "colab": {
      "name": "intro to data science.ipynb",
      "provenance": [],
      "toc_visible": true,
      "authorship_tag": "ABX9TyOKbjUvwLTa0Sw8znd1Yxpt",
      "include_colab_link": true
    },
    "kernelspec": {
      "name": "python3",
      "display_name": "Python 3"
    },
    "language_info": {
      "name": "python"
    }
  },
  "cells": [
    {
      "cell_type": "markdown",
      "metadata": {
        "id": "view-in-github",
        "colab_type": "text"
      },
      "source": [
        "<a href=\"https://colab.research.google.com/github/Mayar455/Data-Science-/blob/main/intro_to_data_science.ipynb\" target=\"_parent\"><img src=\"https://colab.research.google.com/assets/colab-badge.svg\" alt=\"Open In Colab\"/></a>"
      ]
    },
    {
      "cell_type": "markdown",
      "source": [
        "# ***INTRO TO DATA SCIENCE ***\n",
        "*notes from sololearn and codes*\n",
        "-----------------------------------------\n",
        "\n",
        "**What is data Science ?**\n",
        "\n",
        "Data science is a multidisciplinary field that unifies statistics, data analysis, machine learning and their related methods to extract knowledge and insights.\n",
        "\n",
        "1- No matter the format of the data, the first step in data science is to transform it into arrays of numbers."
      ],
      "metadata": {
        "id": "E_8dKrIQBctj"
      }
    },
    {
      "cell_type": "code",
      "source": [
        "import numpy as np\n",
        "\n",
        "heights = [189, 170, 189, 163, 183, 171, 185, 168, 173, 183, 173, 173, 175, 178, 183, 193, 178, 173, 174, 183, 183, 180, 168, 180, 170, 178, 182, 180, 183, 178, 182, 188, 175, 179, 183, 193, 182, 183, 177, 185, 188, 188, 182, 185, 191]\n",
        "\n",
        "heights_arr = np.array(heights)\n",
        "print((heights_arr > 188).sum())"
      ],
      "metadata": {
        "colab": {
          "base_uri": "https://localhost:8080/"
        },
        "id": "ApoBKwZdEDD4",
        "outputId": "0a8e0882-717a-4674-cacc-a16766f4ea0b"
      },
      "execution_count": null,
      "outputs": [
        {
          "output_type": "stream",
          "name": "stdout",
          "text": [
            "5\n"
          ]
        }
      ]
    },
    {
      "cell_type": "code",
      "source": [
        "#An array class in Numpy is called an ndarray or n-dimensional array.\n",
        "#We can use this to count the number of presidents in heights_arr, use attribute numpy.ndarray.size\n",
        "#Note that once an array is created in numpy, its size cannot be changed.\n",
        "#attribute size is the same as len built-in function\n",
        "heights_arr.size"
      ],
      "metadata": {
        "colab": {
          "base_uri": "https://localhost:8080/"
        },
        "id": "1uJsZTcJFJgI",
        "outputId": "cb571c9f-c142-459b-e9fc-1f914f79fc8b"
      },
      "execution_count": null,
      "outputs": [
        {
          "output_type": "execute_result",
          "data": {
            "text/plain": [
              "45"
            ]
          },
          "metadata": {},
          "execution_count": 10
        }
      ]
    },
    {
      "cell_type": "markdown",
      "source": [
        "*Size tells us how big the array is, shape tells us the dimension. To get current shape of an array use attribute shape:*"
      ],
      "metadata": {
        "id": "q3YTiPEOGIE9"
      }
    },
    {
      "cell_type": "code",
      "source": [
        "heights_arr.shape"
      ],
      "metadata": {
        "colab": {
          "base_uri": "https://localhost:8080/"
        },
        "id": "p_OxN0BOF8oV",
        "outputId": "eb7ea520-241d-442b-b54c-aa01541734ec"
      },
      "execution_count": null,
      "outputs": [
        {
          "output_type": "execute_result",
          "data": {
            "text/plain": [
              "(45,)"
            ]
          },
          "metadata": {},
          "execution_count": 11
        }
      ]
    },
    {
      "cell_type": "code",
      "source": [
        "ages = [57, 61, 57, 57, 58, 57, 61, 54, 68, 51, 49, 64, 50, 48, 65, 52, 56, 46, 54, 49, 51, 47, 55, 55, 54, 42, 51, 56, 55, 51, 54, 51, 60, 62, 43, 55, 56, 61, 52, 69, 64, 46, 54, 47, 70]\n",
        "heights_and_ages = heights + ages \n",
        "# convert a list to a numpy array\n",
        "heights_and_ages_arr = np.array(heights_and_ages)\n",
        "print(heights_and_ages_arr.shape)"
      ],
      "metadata": {
        "colab": {
          "base_uri": "https://localhost:8080/"
        },
        "id": "pxBdoywnGOcl",
        "outputId": "b9276320-df8a-43dd-b802-7aac09df437d"
      },
      "execution_count": null,
      "outputs": [
        {
          "output_type": "stream",
          "name": "stdout",
          "text": [
            "(90,)\n"
          ]
        }
      ]
    },
    {
      "cell_type": "markdown",
      "source": [
        "It would be clearer if we could align height and age for each president and reorganize the data into a 2 by 45 matrix where the first row contains all heights and the second row contains ages.To achieve this, a new array can be created by calling numpy.ndarray.reshape with new dimensions specified in a tuple.\n",
        "\n",
        "We can reshape an array in multiple ways, as long as the size of the reshaped array matches that of the original. *italicized text* *italicized text*"
      ],
      "metadata": {
        "id": "scAG9KGnHWFV"
      }
    },
    {
      "cell_type": "code",
      "source": [
        "\n",
        "heights_and_ages_arr.reshape((2,45))"
      ],
      "metadata": {
        "colab": {
          "base_uri": "https://localhost:8080/"
        },
        "id": "ZfRSKxK2GzWt",
        "outputId": "49965102-2451-45f6-ce7a-894981669f57"
      },
      "execution_count": null,
      "outputs": [
        {
          "output_type": "execute_result",
          "data": {
            "text/plain": [
              "array([[189, 170, 189, 163, 183, 171, 185, 168, 173, 183, 173, 173, 175,\n",
              "        178, 183, 193, 178, 173, 174, 183, 183, 180, 168, 180, 170, 178,\n",
              "        182, 180, 183, 178, 182, 188, 175, 179, 183, 193, 182, 183, 177,\n",
              "        185, 188, 188, 182, 185, 191],\n",
              "       [ 57,  61,  57,  57,  58,  57,  61,  54,  68,  51,  49,  64,  50,\n",
              "         48,  65,  52,  56,  46,  54,  49,  51,  47,  55,  55,  54,  42,\n",
              "         51,  56,  55,  51,  54,  51,  60,  62,  43,  55,  56,  61,  52,\n",
              "         69,  64,  46,  54,  47,  70]])"
            ]
          },
          "metadata": {},
          "execution_count": 14
        }
      ]
    },
    {
      "cell_type": "code",
      "source": [
        "# inspect the first three elements from the first row in a 2darray\n",
        "heights_and_ages_arr = heights_and_ages_arr.reshape((2,45))\n",
        "heights_and_ages_arr[0, 0:3]"
      ],
      "metadata": {
        "colab": {
          "base_uri": "https://localhost:8080/"
        },
        "id": "RrSO35rpIW7c",
        "outputId": "6e5752ec-1db3-4986-9131-4a6f48f69eef"
      },
      "execution_count": null,
      "outputs": [
        {
          "output_type": "execute_result",
          "data": {
            "text/plain": [
              "array([189, 170, 189])"
            ]
          },
          "metadata": {},
          "execution_count": 16
        }
      ]
    },
    {
      "cell_type": "code",
      "source": [
        "#Second column of the 2d array \n",
        "heights_and_ages_arr[:, 1]"
      ],
      "metadata": {
        "colab": {
          "base_uri": "https://localhost:8080/"
        },
        "id": "AIEEaVXyJOvU",
        "outputId": "dcc5e79a-17a0-48ea-df46-affd4125d1bd"
      },
      "execution_count": null,
      "outputs": [
        {
          "output_type": "execute_result",
          "data": {
            "text/plain": [
              "array([170,  61])"
            ]
          },
          "metadata": {},
          "execution_count": 17
        }
      ]
    },
    {
      "cell_type": "code",
      "source": [
        "#change the fourth entry in heights_arr to 165\n",
        "heights_and_ages_arr[0, 3] =165\n",
        "heights_and_ages_arr"
      ],
      "metadata": {
        "colab": {
          "base_uri": "https://localhost:8080/"
        },
        "id": "rFYvj7DTJupC",
        "outputId": "145f2ed3-59bb-4bc7-a0c3-3e11df451544"
      },
      "execution_count": null,
      "outputs": [
        {
          "output_type": "execute_result",
          "data": {
            "text/plain": [
              "array([[189, 170, 189, 165, 183, 171, 185, 168, 173, 183, 173, 173, 175,\n",
              "        178, 183, 193, 178, 173, 174, 183, 183, 180, 168, 180, 170, 178,\n",
              "        182, 180, 183, 178, 182, 188, 175, 179, 183, 193, 182, 183, 177,\n",
              "        185, 188, 188, 182, 185, 191],\n",
              "       [ 57,  61,  57,  57,  58,  57,  61,  54,  68,  51,  49,  64,  50,\n",
              "         48,  65,  52,  56,  46,  54,  49,  51,  47,  55,  55,  54,  42,\n",
              "         51,  56,  55,  51,  54,  51,  60,  62,  43,  55,  56,  61,  52,\n",
              "         69,  64,  46,  54,  47,  70]])"
            ]
          },
          "metadata": {},
          "execution_count": 18
        }
      ]
    },
    {
      "cell_type": "markdown",
      "source": [
        "a 1d array or a 2d arry can be assigned to a subset of another 2d array, as long as their shapes match."
      ],
      "metadata": {
        "id": "XCoItR_lKpYZ"
      }
    },
    {
      "cell_type": "code",
      "source": [
        "#update both height and age of the first president with new data, we can supply the data in a list:\n",
        "heights_and_ages_arr[:, 0] = [190, 58]\n",
        "heights_and_ages_arr"
      ],
      "metadata": {
        "colab": {
          "base_uri": "https://localhost:8080/"
        },
        "id": "bvymCuqHKtKC",
        "outputId": "f3b04407-0e08-4c04-aefd-5349f4650d73"
      },
      "execution_count": null,
      "outputs": [
        {
          "output_type": "execute_result",
          "data": {
            "text/plain": [
              "array([[190, 170, 189, 165, 183, 171, 185, 168, 173, 183, 173, 173, 175,\n",
              "        178, 183, 193, 178, 173, 174, 183, 183, 180, 168, 180, 170, 178,\n",
              "        182, 180, 183, 178, 182, 188, 175, 179, 183, 193, 182, 183, 177,\n",
              "        185, 188, 188, 182, 185, 191],\n",
              "       [ 58,  61,  57,  57,  58,  57,  61,  54,  68,  51,  49,  64,  50,\n",
              "         48,  65,  52,  56,  46,  54,  49,  51,  47,  55,  55,  54,  42,\n",
              "         51,  56,  55,  51,  54,  51,  60,  62,  43,  55,  56,  61,  52,\n",
              "         69,  64,  46,  54,  47,  70]])"
            ]
          },
          "metadata": {},
          "execution_count": 22
        }
      ]
    },
    {
      "cell_type": "code",
      "source": [
        "#We can also update data in a subarray with a numpy array as such:\n",
        "new_record = np.array([[180, 183, 190], [54, 50, 69]])\n",
        "heights_and_ages_arr[:, 42:] = new_record\n",
        "heights_and_ages_arr\n"
      ],
      "metadata": {
        "colab": {
          "base_uri": "https://localhost:8080/"
        },
        "id": "1WM-sB95LVs4",
        "outputId": "07e69ac8-36e4-43a8-a453-b9bd9c49ad0f"
      },
      "execution_count": null,
      "outputs": [
        {
          "output_type": "execute_result",
          "data": {
            "text/plain": [
              "array([[190, 170, 189, 165, 183, 171, 185, 168, 173, 183, 173, 173, 175,\n",
              "        178, 183, 193, 178, 173, 174, 183, 183, 180, 168, 180, 170, 178,\n",
              "        182, 180, 183, 178, 182, 188, 175, 179, 183, 193, 182, 183, 177,\n",
              "        185, 188, 188, 180, 183, 190],\n",
              "       [ 58,  61,  57,  57,  58,  57,  61,  54,  68,  51,  49,  64,  50,\n",
              "         48,  65,  52,  56,  46,  54,  49,  51,  47,  55,  55,  54,  42,\n",
              "         51,  56,  55,  51,  54,  51,  60,  62,  43,  55,  56,  61,  52,\n",
              "         69,  64,  46,  54,  50,  69]])"
            ]
          },
          "metadata": {},
          "execution_count": 23
        }
      ]
    }
  ]
}